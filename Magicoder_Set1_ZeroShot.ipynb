{
  "nbformat": 4,
  "nbformat_minor": 0,
  "metadata": {
    "colab": {
      "provenance": [],
      "gpuType": "A100",
      "authorship_tag": "ABX9TyNgiXRB4CvD3x0gHSvyhYFs",
      "include_colab_link": true
    },
    "kernelspec": {
      "name": "python3",
      "display_name": "Python 3"
    },
    "language_info": {
      "name": "python"
    },
    "accelerator": "GPU",
    "widgets": {
      "application/vnd.jupyter.widget-state+json": {
        "ecea6c88c9e146fe9670dc8be3d32942": {
          "model_module": "@jupyter-widgets/controls",
          "model_name": "HBoxModel",
          "model_module_version": "1.5.0",
          "state": {
            "_dom_classes": [],
            "_model_module": "@jupyter-widgets/controls",
            "_model_module_version": "1.5.0",
            "_model_name": "HBoxModel",
            "_view_count": null,
            "_view_module": "@jupyter-widgets/controls",
            "_view_module_version": "1.5.0",
            "_view_name": "HBoxView",
            "box_style": "",
            "children": [
              "IPY_MODEL_87cc6b196eee4574b3278a79dad25cae",
              "IPY_MODEL_f069c0ee36f04bdaa710e2de69807dbc",
              "IPY_MODEL_cdc795878f3249f6ac01c08605d83dbc"
            ],
            "layout": "IPY_MODEL_652f093b23704cdc897d22685d9d7304"
          }
        },
        "87cc6b196eee4574b3278a79dad25cae": {
          "model_module": "@jupyter-widgets/controls",
          "model_name": "HTMLModel",
          "model_module_version": "1.5.0",
          "state": {
            "_dom_classes": [],
            "_model_module": "@jupyter-widgets/controls",
            "_model_module_version": "1.5.0",
            "_model_name": "HTMLModel",
            "_view_count": null,
            "_view_module": "@jupyter-widgets/controls",
            "_view_module_version": "1.5.0",
            "_view_name": "HTMLView",
            "description": "",
            "description_tooltip": null,
            "layout": "IPY_MODEL_96eb1697e31b42458751ce8cc4b8ab66",
            "placeholder": "​",
            "style": "IPY_MODEL_d8a6919729c54253a11b0cdba74abafe",
            "value": "Loading checkpoint shards: 100%"
          }
        },
        "f069c0ee36f04bdaa710e2de69807dbc": {
          "model_module": "@jupyter-widgets/controls",
          "model_name": "FloatProgressModel",
          "model_module_version": "1.5.0",
          "state": {
            "_dom_classes": [],
            "_model_module": "@jupyter-widgets/controls",
            "_model_module_version": "1.5.0",
            "_model_name": "FloatProgressModel",
            "_view_count": null,
            "_view_module": "@jupyter-widgets/controls",
            "_view_module_version": "1.5.0",
            "_view_name": "ProgressView",
            "bar_style": "success",
            "description": "",
            "description_tooltip": null,
            "layout": "IPY_MODEL_3e41c53902d24bfe8fb43d7cfb29c8ff",
            "max": 6,
            "min": 0,
            "orientation": "horizontal",
            "style": "IPY_MODEL_c92434bba6c24cd9bd0d4857f14cf0ee",
            "value": 6
          }
        },
        "cdc795878f3249f6ac01c08605d83dbc": {
          "model_module": "@jupyter-widgets/controls",
          "model_name": "HTMLModel",
          "model_module_version": "1.5.0",
          "state": {
            "_dom_classes": [],
            "_model_module": "@jupyter-widgets/controls",
            "_model_module_version": "1.5.0",
            "_model_name": "HTMLModel",
            "_view_count": null,
            "_view_module": "@jupyter-widgets/controls",
            "_view_module_version": "1.5.0",
            "_view_name": "HTMLView",
            "description": "",
            "description_tooltip": null,
            "layout": "IPY_MODEL_2164175058014727979e4691d5eaa44b",
            "placeholder": "​",
            "style": "IPY_MODEL_4a01a0b15573421d88f67037d7081834",
            "value": " 6/6 [00:07&lt;00:00,  1.14s/it]"
          }
        },
        "652f093b23704cdc897d22685d9d7304": {
          "model_module": "@jupyter-widgets/base",
          "model_name": "LayoutModel",
          "model_module_version": "1.2.0",
          "state": {
            "_model_module": "@jupyter-widgets/base",
            "_model_module_version": "1.2.0",
            "_model_name": "LayoutModel",
            "_view_count": null,
            "_view_module": "@jupyter-widgets/base",
            "_view_module_version": "1.2.0",
            "_view_name": "LayoutView",
            "align_content": null,
            "align_items": null,
            "align_self": null,
            "border": null,
            "bottom": null,
            "display": null,
            "flex": null,
            "flex_flow": null,
            "grid_area": null,
            "grid_auto_columns": null,
            "grid_auto_flow": null,
            "grid_auto_rows": null,
            "grid_column": null,
            "grid_gap": null,
            "grid_row": null,
            "grid_template_areas": null,
            "grid_template_columns": null,
            "grid_template_rows": null,
            "height": null,
            "justify_content": null,
            "justify_items": null,
            "left": null,
            "margin": null,
            "max_height": null,
            "max_width": null,
            "min_height": null,
            "min_width": null,
            "object_fit": null,
            "object_position": null,
            "order": null,
            "overflow": null,
            "overflow_x": null,
            "overflow_y": null,
            "padding": null,
            "right": null,
            "top": null,
            "visibility": null,
            "width": null
          }
        },
        "96eb1697e31b42458751ce8cc4b8ab66": {
          "model_module": "@jupyter-widgets/base",
          "model_name": "LayoutModel",
          "model_module_version": "1.2.0",
          "state": {
            "_model_module": "@jupyter-widgets/base",
            "_model_module_version": "1.2.0",
            "_model_name": "LayoutModel",
            "_view_count": null,
            "_view_module": "@jupyter-widgets/base",
            "_view_module_version": "1.2.0",
            "_view_name": "LayoutView",
            "align_content": null,
            "align_items": null,
            "align_self": null,
            "border": null,
            "bottom": null,
            "display": null,
            "flex": null,
            "flex_flow": null,
            "grid_area": null,
            "grid_auto_columns": null,
            "grid_auto_flow": null,
            "grid_auto_rows": null,
            "grid_column": null,
            "grid_gap": null,
            "grid_row": null,
            "grid_template_areas": null,
            "grid_template_columns": null,
            "grid_template_rows": null,
            "height": null,
            "justify_content": null,
            "justify_items": null,
            "left": null,
            "margin": null,
            "max_height": null,
            "max_width": null,
            "min_height": null,
            "min_width": null,
            "object_fit": null,
            "object_position": null,
            "order": null,
            "overflow": null,
            "overflow_x": null,
            "overflow_y": null,
            "padding": null,
            "right": null,
            "top": null,
            "visibility": null,
            "width": null
          }
        },
        "d8a6919729c54253a11b0cdba74abafe": {
          "model_module": "@jupyter-widgets/controls",
          "model_name": "DescriptionStyleModel",
          "model_module_version": "1.5.0",
          "state": {
            "_model_module": "@jupyter-widgets/controls",
            "_model_module_version": "1.5.0",
            "_model_name": "DescriptionStyleModel",
            "_view_count": null,
            "_view_module": "@jupyter-widgets/base",
            "_view_module_version": "1.2.0",
            "_view_name": "StyleView",
            "description_width": ""
          }
        },
        "3e41c53902d24bfe8fb43d7cfb29c8ff": {
          "model_module": "@jupyter-widgets/base",
          "model_name": "LayoutModel",
          "model_module_version": "1.2.0",
          "state": {
            "_model_module": "@jupyter-widgets/base",
            "_model_module_version": "1.2.0",
            "_model_name": "LayoutModel",
            "_view_count": null,
            "_view_module": "@jupyter-widgets/base",
            "_view_module_version": "1.2.0",
            "_view_name": "LayoutView",
            "align_content": null,
            "align_items": null,
            "align_self": null,
            "border": null,
            "bottom": null,
            "display": null,
            "flex": null,
            "flex_flow": null,
            "grid_area": null,
            "grid_auto_columns": null,
            "grid_auto_flow": null,
            "grid_auto_rows": null,
            "grid_column": null,
            "grid_gap": null,
            "grid_row": null,
            "grid_template_areas": null,
            "grid_template_columns": null,
            "grid_template_rows": null,
            "height": null,
            "justify_content": null,
            "justify_items": null,
            "left": null,
            "margin": null,
            "max_height": null,
            "max_width": null,
            "min_height": null,
            "min_width": null,
            "object_fit": null,
            "object_position": null,
            "order": null,
            "overflow": null,
            "overflow_x": null,
            "overflow_y": null,
            "padding": null,
            "right": null,
            "top": null,
            "visibility": null,
            "width": null
          }
        },
        "c92434bba6c24cd9bd0d4857f14cf0ee": {
          "model_module": "@jupyter-widgets/controls",
          "model_name": "ProgressStyleModel",
          "model_module_version": "1.5.0",
          "state": {
            "_model_module": "@jupyter-widgets/controls",
            "_model_module_version": "1.5.0",
            "_model_name": "ProgressStyleModel",
            "_view_count": null,
            "_view_module": "@jupyter-widgets/base",
            "_view_module_version": "1.2.0",
            "_view_name": "StyleView",
            "bar_color": null,
            "description_width": ""
          }
        },
        "2164175058014727979e4691d5eaa44b": {
          "model_module": "@jupyter-widgets/base",
          "model_name": "LayoutModel",
          "model_module_version": "1.2.0",
          "state": {
            "_model_module": "@jupyter-widgets/base",
            "_model_module_version": "1.2.0",
            "_model_name": "LayoutModel",
            "_view_count": null,
            "_view_module": "@jupyter-widgets/base",
            "_view_module_version": "1.2.0",
            "_view_name": "LayoutView",
            "align_content": null,
            "align_items": null,
            "align_self": null,
            "border": null,
            "bottom": null,
            "display": null,
            "flex": null,
            "flex_flow": null,
            "grid_area": null,
            "grid_auto_columns": null,
            "grid_auto_flow": null,
            "grid_auto_rows": null,
            "grid_column": null,
            "grid_gap": null,
            "grid_row": null,
            "grid_template_areas": null,
            "grid_template_columns": null,
            "grid_template_rows": null,
            "height": null,
            "justify_content": null,
            "justify_items": null,
            "left": null,
            "margin": null,
            "max_height": null,
            "max_width": null,
            "min_height": null,
            "min_width": null,
            "object_fit": null,
            "object_position": null,
            "order": null,
            "overflow": null,
            "overflow_x": null,
            "overflow_y": null,
            "padding": null,
            "right": null,
            "top": null,
            "visibility": null,
            "width": null
          }
        },
        "4a01a0b15573421d88f67037d7081834": {
          "model_module": "@jupyter-widgets/controls",
          "model_name": "DescriptionStyleModel",
          "model_module_version": "1.5.0",
          "state": {
            "_model_module": "@jupyter-widgets/controls",
            "_model_module_version": "1.5.0",
            "_model_name": "DescriptionStyleModel",
            "_view_count": null,
            "_view_module": "@jupyter-widgets/base",
            "_view_module_version": "1.2.0",
            "_view_name": "StyleView",
            "description_width": ""
          }
        }
      }
    }
  },
  "cells": [
    {
      "cell_type": "markdown",
      "metadata": {
        "id": "view-in-github",
        "colab_type": "text"
      },
      "source": [
        "<a href=\"https://colab.research.google.com/github/shahdhesham/Thesis_Set1/blob/main/Magicoder_Set1_ZeroShot.ipynb\" target=\"_parent\"><img src=\"https://colab.research.google.com/assets/colab-badge.svg\" alt=\"Open In Colab\"/></a>"
      ]
    },
    {
      "cell_type": "code",
      "source": [
        "import os\n",
        "os.environ['PYTORCH_CUDA_ALLOC_CONF'] = 'expandable_segments:True'\n"
      ],
      "metadata": {
        "id": "2RK_wmkgraY2"
      },
      "execution_count": 1,
      "outputs": []
    },
    {
      "cell_type": "code",
      "source": [
        "import torch\n",
        "\n",
        "if torch.cuda.is_available():\n",
        "    print(\"CUDA is available! Using GPU.\")\n",
        "    print(f\"GPU device name: {torch.cuda.get_device_name(0)}\")\n",
        "else:\n",
        "    print(\"CUDA NOT available. Using CPU.\")"
      ],
      "metadata": {
        "colab": {
          "base_uri": "https://localhost:8080/"
        },
        "id": "5mEYvTBnn6zT",
        "outputId": "4825e430-bc09-4fc0-ae64-0fd02a11a2af"
      },
      "execution_count": 2,
      "outputs": [
        {
          "output_type": "stream",
          "name": "stdout",
          "text": [
            "CUDA is available! Using GPU.\n",
            "GPU device name: NVIDIA A100-SXM4-40GB\n"
          ]
        }
      ]
    },
    {
      "cell_type": "code",
      "source": [
        "!free -h"
      ],
      "metadata": {
        "colab": {
          "base_uri": "https://localhost:8080/"
        },
        "id": "88ewvaj1xf_I",
        "outputId": "cbeb8d71-02e0-4867-c024-b0d7600f4041"
      },
      "execution_count": 3,
      "outputs": [
        {
          "output_type": "stream",
          "name": "stdout",
          "text": [
            "               total        used        free      shared  buff/cache   available\n",
            "Mem:            83Gi       1.4Gi        25Gi       1.0Mi        56Gi        81Gi\n",
            "Swap:             0B          0B          0B\n"
          ]
        }
      ]
    },
    {
      "cell_type": "code",
      "source": [
        "from google.colab import files\n",
        "import zipfile\n",
        "import torch\n",
        "\n",
        "import os\n",
        "from transformers import AutoModelForCausalLM, AutoTokenizer"
      ],
      "metadata": {
        "id": "n-Da-BGRnfyp"
      },
      "execution_count": 4,
      "outputs": []
    },
    {
      "cell_type": "code",
      "source": [
        "# 1. Upload ZIP file\n",
        "print(\"Upload your ZIP file containing .c files:\")\n",
        "uploaded = files.upload()\n",
        "zip_name = next(iter(uploaded))\n",
        "\n",
        "# 2. Extract ZIP\n",
        "with zipfile.ZipFile(zip_name, 'r') as z:\n",
        "    z.extractall('input_folder')\n",
        "print(\"Files extracted to 'input_folder/'\")"
      ],
      "metadata": {
        "id": "iE8ENLicnhrW",
        "colab": {
          "base_uri": "https://localhost:8080/",
          "height": 110
        },
        "outputId": "aa0bc1a8-1847-4da2-e379-445e939c5541"
      },
      "execution_count": 5,
      "outputs": [
        {
          "output_type": "stream",
          "name": "stdout",
          "text": [
            "Upload your ZIP file containing .c files:\n"
          ]
        },
        {
          "output_type": "display_data",
          "data": {
            "text/plain": [
              "<IPython.core.display.HTML object>"
            ],
            "text/html": [
              "\n",
              "     <input type=\"file\" id=\"files-6116db77-e47d-46a5-9164-e2275635acc4\" name=\"files[]\" multiple disabled\n",
              "        style=\"border:none\" />\n",
              "     <output id=\"result-6116db77-e47d-46a5-9164-e2275635acc4\">\n",
              "      Upload widget is only available when the cell has been executed in the\n",
              "      current browser session. Please rerun this cell to enable.\n",
              "      </output>\n",
              "      <script>// Copyright 2017 Google LLC\n",
              "//\n",
              "// Licensed under the Apache License, Version 2.0 (the \"License\");\n",
              "// you may not use this file except in compliance with the License.\n",
              "// You may obtain a copy of the License at\n",
              "//\n",
              "//      http://www.apache.org/licenses/LICENSE-2.0\n",
              "//\n",
              "// Unless required by applicable law or agreed to in writing, software\n",
              "// distributed under the License is distributed on an \"AS IS\" BASIS,\n",
              "// WITHOUT WARRANTIES OR CONDITIONS OF ANY KIND, either express or implied.\n",
              "// See the License for the specific language governing permissions and\n",
              "// limitations under the License.\n",
              "\n",
              "/**\n",
              " * @fileoverview Helpers for google.colab Python module.\n",
              " */\n",
              "(function(scope) {\n",
              "function span(text, styleAttributes = {}) {\n",
              "  const element = document.createElement('span');\n",
              "  element.textContent = text;\n",
              "  for (const key of Object.keys(styleAttributes)) {\n",
              "    element.style[key] = styleAttributes[key];\n",
              "  }\n",
              "  return element;\n",
              "}\n",
              "\n",
              "// Max number of bytes which will be uploaded at a time.\n",
              "const MAX_PAYLOAD_SIZE = 100 * 1024;\n",
              "\n",
              "function _uploadFiles(inputId, outputId) {\n",
              "  const steps = uploadFilesStep(inputId, outputId);\n",
              "  const outputElement = document.getElementById(outputId);\n",
              "  // Cache steps on the outputElement to make it available for the next call\n",
              "  // to uploadFilesContinue from Python.\n",
              "  outputElement.steps = steps;\n",
              "\n",
              "  return _uploadFilesContinue(outputId);\n",
              "}\n",
              "\n",
              "// This is roughly an async generator (not supported in the browser yet),\n",
              "// where there are multiple asynchronous steps and the Python side is going\n",
              "// to poll for completion of each step.\n",
              "// This uses a Promise to block the python side on completion of each step,\n",
              "// then passes the result of the previous step as the input to the next step.\n",
              "function _uploadFilesContinue(outputId) {\n",
              "  const outputElement = document.getElementById(outputId);\n",
              "  const steps = outputElement.steps;\n",
              "\n",
              "  const next = steps.next(outputElement.lastPromiseValue);\n",
              "  return Promise.resolve(next.value.promise).then((value) => {\n",
              "    // Cache the last promise value to make it available to the next\n",
              "    // step of the generator.\n",
              "    outputElement.lastPromiseValue = value;\n",
              "    return next.value.response;\n",
              "  });\n",
              "}\n",
              "\n",
              "/**\n",
              " * Generator function which is called between each async step of the upload\n",
              " * process.\n",
              " * @param {string} inputId Element ID of the input file picker element.\n",
              " * @param {string} outputId Element ID of the output display.\n",
              " * @return {!Iterable<!Object>} Iterable of next steps.\n",
              " */\n",
              "function* uploadFilesStep(inputId, outputId) {\n",
              "  const inputElement = document.getElementById(inputId);\n",
              "  inputElement.disabled = false;\n",
              "\n",
              "  const outputElement = document.getElementById(outputId);\n",
              "  outputElement.innerHTML = '';\n",
              "\n",
              "  const pickedPromise = new Promise((resolve) => {\n",
              "    inputElement.addEventListener('change', (e) => {\n",
              "      resolve(e.target.files);\n",
              "    });\n",
              "  });\n",
              "\n",
              "  const cancel = document.createElement('button');\n",
              "  inputElement.parentElement.appendChild(cancel);\n",
              "  cancel.textContent = 'Cancel upload';\n",
              "  const cancelPromise = new Promise((resolve) => {\n",
              "    cancel.onclick = () => {\n",
              "      resolve(null);\n",
              "    };\n",
              "  });\n",
              "\n",
              "  // Wait for the user to pick the files.\n",
              "  const files = yield {\n",
              "    promise: Promise.race([pickedPromise, cancelPromise]),\n",
              "    response: {\n",
              "      action: 'starting',\n",
              "    }\n",
              "  };\n",
              "\n",
              "  cancel.remove();\n",
              "\n",
              "  // Disable the input element since further picks are not allowed.\n",
              "  inputElement.disabled = true;\n",
              "\n",
              "  if (!files) {\n",
              "    return {\n",
              "      response: {\n",
              "        action: 'complete',\n",
              "      }\n",
              "    };\n",
              "  }\n",
              "\n",
              "  for (const file of files) {\n",
              "    const li = document.createElement('li');\n",
              "    li.append(span(file.name, {fontWeight: 'bold'}));\n",
              "    li.append(span(\n",
              "        `(${file.type || 'n/a'}) - ${file.size} bytes, ` +\n",
              "        `last modified: ${\n",
              "            file.lastModifiedDate ? file.lastModifiedDate.toLocaleDateString() :\n",
              "                                    'n/a'} - `));\n",
              "    const percent = span('0% done');\n",
              "    li.appendChild(percent);\n",
              "\n",
              "    outputElement.appendChild(li);\n",
              "\n",
              "    const fileDataPromise = new Promise((resolve) => {\n",
              "      const reader = new FileReader();\n",
              "      reader.onload = (e) => {\n",
              "        resolve(e.target.result);\n",
              "      };\n",
              "      reader.readAsArrayBuffer(file);\n",
              "    });\n",
              "    // Wait for the data to be ready.\n",
              "    let fileData = yield {\n",
              "      promise: fileDataPromise,\n",
              "      response: {\n",
              "        action: 'continue',\n",
              "      }\n",
              "    };\n",
              "\n",
              "    // Use a chunked sending to avoid message size limits. See b/62115660.\n",
              "    let position = 0;\n",
              "    do {\n",
              "      const length = Math.min(fileData.byteLength - position, MAX_PAYLOAD_SIZE);\n",
              "      const chunk = new Uint8Array(fileData, position, length);\n",
              "      position += length;\n",
              "\n",
              "      const base64 = btoa(String.fromCharCode.apply(null, chunk));\n",
              "      yield {\n",
              "        response: {\n",
              "          action: 'append',\n",
              "          file: file.name,\n",
              "          data: base64,\n",
              "        },\n",
              "      };\n",
              "\n",
              "      let percentDone = fileData.byteLength === 0 ?\n",
              "          100 :\n",
              "          Math.round((position / fileData.byteLength) * 100);\n",
              "      percent.textContent = `${percentDone}% done`;\n",
              "\n",
              "    } while (position < fileData.byteLength);\n",
              "  }\n",
              "\n",
              "  // All done.\n",
              "  yield {\n",
              "    response: {\n",
              "      action: 'complete',\n",
              "    }\n",
              "  };\n",
              "}\n",
              "\n",
              "scope.google = scope.google || {};\n",
              "scope.google.colab = scope.google.colab || {};\n",
              "scope.google.colab._files = {\n",
              "  _uploadFiles,\n",
              "  _uploadFilesContinue,\n",
              "};\n",
              "})(self);\n",
              "</script> "
            ]
          },
          "metadata": {}
        },
        {
          "output_type": "stream",
          "name": "stdout",
          "text": [
            "Saving 5solutions.zip to 5solutions (3).zip\n",
            "Files extracted to 'input_folder/'\n"
          ]
        }
      ]
    },
    {
      "cell_type": "code",
      "source": [
        "# 3. Load model\n",
        "model = AutoModelForCausalLM.from_pretrained(\n",
        "    \"ise-uiuc/Magicoder-S-CL-7B\",\n",
        "    device_map=\"auto\",\n",
        "    torch_dtype=torch.bfloat16\n",
        ")\n",
        "tokenizer = AutoTokenizer.from_pretrained(\"ise-uiuc/Magicoder-S-CL-7B\")\n",
        "tokenizer.pad_token = tokenizer.eos_token  # Add this line\n"
      ],
      "metadata": {
        "id": "H8puyVD7nkaK",
        "colab": {
          "base_uri": "https://localhost:8080/",
          "height": 49,
          "referenced_widgets": [
            "ecea6c88c9e146fe9670dc8be3d32942",
            "87cc6b196eee4574b3278a79dad25cae",
            "f069c0ee36f04bdaa710e2de69807dbc",
            "cdc795878f3249f6ac01c08605d83dbc",
            "652f093b23704cdc897d22685d9d7304",
            "96eb1697e31b42458751ce8cc4b8ab66",
            "d8a6919729c54253a11b0cdba74abafe",
            "3e41c53902d24bfe8fb43d7cfb29c8ff",
            "c92434bba6c24cd9bd0d4857f14cf0ee",
            "2164175058014727979e4691d5eaa44b",
            "4a01a0b15573421d88f67037d7081834"
          ]
        },
        "outputId": "46c31326-ff81-4ab2-e975-0e7da0230c28"
      },
      "execution_count": 6,
      "outputs": [
        {
          "output_type": "display_data",
          "data": {
            "text/plain": [
              "Loading checkpoint shards:   0%|          | 0/6 [00:00<?, ?it/s]"
            ],
            "application/vnd.jupyter.widget-view+json": {
              "version_major": 2,
              "version_minor": 0,
              "model_id": "ecea6c88c9e146fe9670dc8be3d32942"
            }
          },
          "metadata": {}
        }
      ]
    },
    {
      "cell_type": "code",
      "source": [
        "# # Core translation function_Intial\n",
        "# def translate(c_code):\n",
        "#     prompt =  f\"\"\"\n",
        "#     You are an expert code translator. Your ONLY task is to convert c++ code to c code.\n",
        "#     Rules you MUST follow:\n",
        "#     1. Output ONLY executable C code\n",
        "#     2. Never include markdown or explanations\n",
        "#     3. Preserve all functionality exactly\n",
        "#     4. Use standard C libraries\n",
        "#     5. Match the original code's input/output behavior\n",
        "\n",
        "#     C:\n",
        "#     {c_code}\n",
        "\n",
        "#     \"\"\"\n",
        "\n",
        "#     inputs = tokenizer(prompt, return_tensors=\"pt\").to(model.device)\n",
        "#     outputs = model.generate(**inputs, max_new_tokens=512) #context window size\n",
        "#     return tokenizer.decode(outputs[0], skip_special_tokens=True).split(\"C++:\")[-1].strip()\n",
        "#     # return tokenizer.decode(outputs[0], skip_special_tokens=True).split(\"@@ Response\")[-1].strip()\n"
      ],
      "metadata": {
        "id": "PjzwMQSQnqT1"
      },
      "execution_count": 7,
      "outputs": []
    },
    {
      "cell_type": "code",
      "source": [
        "#BATCHING\n",
        "def translate_batch(c_code_list):\n",
        "    # Prepare prompt list for each input code\n",
        "    prompts = []\n",
        "    for c_code in c_code_list:\n",
        "        prompt = f\"\"\"\n",
        "You are an expert code translator. Your ONLY task is to convert c++ code to c code.\n",
        "Rules you MUST follow:\n",
        "1. Output ONLY executable C code\n",
        "2. Never include markdown or explanations\n",
        "3. Preserve all functionality exactly\n",
        "4. Use standard C libraries\n",
        "5. Match the original code's input/output behavior\n",
        "\n",
        "C:\n",
        "{c_code}\n",
        "\"\"\"\n",
        "        prompts.append(prompt)\n",
        "\n",
        "    # Tokenize with padding for batch processing\n",
        "    inputs = tokenizer(prompts, padding=True, return_tensors=\"pt\").to(model.device)\n",
        "\n",
        "    # Generate outputs for the whole batch\n",
        "    outputs = model.generate(**inputs, max_new_tokens=512)\n",
        "\n",
        "    # Decode each output separately and clean it up\n",
        "    results = []\n",
        "    for output in outputs:\n",
        "        decoded = tokenizer.decode(output, skip_special_tokens=True)\n",
        "        # Assuming the translation starts after \"C++:\" marker (adjust if needed)\n",
        "        translation = decoded.split(\"C++:\")[-1].strip()\n",
        "        results.append(translation)\n",
        "\n",
        "    return results"
      ],
      "metadata": {
        "id": "mFDUdholneNN"
      },
      "execution_count": 8,
      "outputs": []
    },
    {
      "cell_type": "code",
      "source": [],
      "metadata": {
        "id": "nCykGAo0q1PE"
      },
      "execution_count": 8,
      "outputs": []
    },
    {
      "cell_type": "code",
      "source": [
        "#batching\n",
        "batch_size = 4\n",
        "batch_files = []\n",
        "batch_codes = []\n",
        "batch_paths = []\n",
        "\n",
        "for root, _, files in os.walk('input_folder'):\n",
        "    for file in files:\n",
        "        if file.endswith('.c'):\n",
        "            in_path = os.path.join(root, file)\n",
        "            out_path = in_path.replace('input_folder', 'output_folder').replace('.c', '.cpp')\n",
        "            os.makedirs(os.path.dirname(out_path), exist_ok=True)\n",
        "\n",
        "            with open(in_path, 'r') as f:\n",
        "                code = f.read()\n",
        "\n",
        "            batch_files.append(file)\n",
        "            batch_codes.append(code)\n",
        "            batch_paths.append((in_path, out_path))\n",
        "\n",
        "            # Once batch is full, translate all at once\n",
        "            if len(batch_codes) == batch_size:\n",
        "                translations = translate_batch(batch_codes)\n",
        "                for (in_p, out_p), translation in zip(batch_paths, translations):\n",
        "                    with open(out_p, 'w') as f_out:\n",
        "                        f_out.write(translation)\n",
        "                    print(f\"Translated: {in_p} → {out_p}\")\n",
        "\n",
        "                import gc\n",
        "                gc.collect()\n",
        "                torch.cuda.empty_cache()\n",
        "                # Clear batch lists\n",
        "                batch_files = []\n",
        "                batch_codes = []\n",
        "                batch_paths = []\n",
        "\n",
        "\n",
        "\n",
        "\n",
        "# Translate any remaining files smaller than batch size\n",
        "if batch_codes:\n",
        "    translations = translate_batch(batch_codes)\n",
        "    for (in_p, out_p), translation in zip(batch_paths, translations):\n",
        "        with open(out_p, 'w') as f_out:\n",
        "            f_out.write(translation)\n",
        "        print(f\"Translated: {in_p} → {out_p}\")"
      ],
      "metadata": {
        "colab": {
          "base_uri": "https://localhost:8080/"
        },
        "id": "OzH0luBDmrnn",
        "outputId": "e12f4752-cbee-4452-8471-155c74032ec6"
      },
      "execution_count": 9,
      "outputs": [
        {
          "output_type": "stream",
          "name": "stderr",
          "text": [
            "Setting `pad_token_id` to `eos_token_id`:2 for open-end generation.\n"
          ]
        },
        {
          "output_type": "stream",
          "name": "stdout",
          "text": [
            "Translated: input_folder/5solutions/p03322/C/s551996426.c → output_folder/5solutions/p03322/C/s551996426.cpp\n",
            "Translated: input_folder/5solutions/p00482/C/s141106294.c → output_folder/5solutions/p00482/C/s141106294.cpp\n",
            "Translated: input_folder/5solutions/p00482/C/s592579736.c → output_folder/5solutions/p00482/C/s592579736.cpp\n",
            "Translated: input_folder/5solutions/p00482/C/s868027075.c → output_folder/5solutions/p00482/C/s868027075.cpp\n"
          ]
        },
        {
          "output_type": "stream",
          "name": "stderr",
          "text": [
            "Setting `pad_token_id` to `eos_token_id`:2 for open-end generation.\n"
          ]
        },
        {
          "output_type": "stream",
          "name": "stdout",
          "text": [
            "Translated: input_folder/5solutions/p00482/C/s402575271.c → output_folder/5solutions/p00482/C/s402575271.cpp\n",
            "Translated: input_folder/5solutions/p00482/C/s679164229.c → output_folder/5solutions/p00482/C/s679164229.cpp\n",
            "Translated: input_folder/5solutions/p02610/C/s487455940.c → output_folder/5solutions/p02610/C/s487455940.cpp\n",
            "Translated: input_folder/5solutions/p02610/C/s127782388.c → output_folder/5solutions/p02610/C/s127782388.cpp\n"
          ]
        },
        {
          "output_type": "stream",
          "name": "stderr",
          "text": [
            "Setting `pad_token_id` to `eos_token_id`:2 for open-end generation.\n"
          ]
        },
        {
          "output_type": "stream",
          "name": "stdout",
          "text": [
            "Translated: input_folder/5solutions/p02610/C/s250458267.c → output_folder/5solutions/p02610/C/s250458267.cpp\n",
            "Translated: input_folder/5solutions/p02610/C/s902026124.c → output_folder/5solutions/p02610/C/s902026124.cpp\n",
            "Translated: input_folder/5solutions/p02610/C/s677412477.c → output_folder/5solutions/p02610/C/s677412477.cpp\n",
            "Translated: input_folder/5solutions/p01601/C/s775589530.c → output_folder/5solutions/p01601/C/s775589530.cpp\n"
          ]
        },
        {
          "output_type": "stream",
          "name": "stderr",
          "text": [
            "Setting `pad_token_id` to `eos_token_id`:2 for open-end generation.\n"
          ]
        },
        {
          "output_type": "stream",
          "name": "stdout",
          "text": [
            "Translated: input_folder/5solutions/p01601/C/s007769618.c → output_folder/5solutions/p01601/C/s007769618.cpp\n",
            "Translated: input_folder/5solutions/p01601/C/s566357598.c → output_folder/5solutions/p01601/C/s566357598.cpp\n",
            "Translated: input_folder/5solutions/p01601/C/s001049925.c → output_folder/5solutions/p01601/C/s001049925.cpp\n",
            "Translated: input_folder/5solutions/p01601/C/s029716452.c → output_folder/5solutions/p01601/C/s029716452.cpp\n"
          ]
        },
        {
          "output_type": "stream",
          "name": "stderr",
          "text": [
            "Setting `pad_token_id` to `eos_token_id`:2 for open-end generation.\n"
          ]
        },
        {
          "output_type": "stream",
          "name": "stdout",
          "text": [
            "Translated: input_folder/5solutions/p00536/C/s456495707.c → output_folder/5solutions/p00536/C/s456495707.cpp\n",
            "Translated: input_folder/5solutions/p00536/C/s814838074.c → output_folder/5solutions/p00536/C/s814838074.cpp\n",
            "Translated: input_folder/5solutions/p00034/C/s930540190.c → output_folder/5solutions/p00034/C/s930540190.cpp\n",
            "Translated: input_folder/5solutions/p00034/C/s105671040.c → output_folder/5solutions/p00034/C/s105671040.cpp\n"
          ]
        },
        {
          "output_type": "stream",
          "name": "stderr",
          "text": [
            "Setting `pad_token_id` to `eos_token_id`:2 for open-end generation.\n"
          ]
        },
        {
          "output_type": "stream",
          "name": "stdout",
          "text": [
            "Translated: input_folder/5solutions/p00034/C/s664006655.c → output_folder/5solutions/p00034/C/s664006655.cpp\n",
            "Translated: input_folder/5solutions/p00034/C/s084585556.c → output_folder/5solutions/p00034/C/s084585556.cpp\n",
            "Translated: input_folder/5solutions/p00034/C/s512096282.c → output_folder/5solutions/p00034/C/s512096282.cpp\n",
            "Translated: input_folder/5solutions/p03820/C/s580592882.c → output_folder/5solutions/p03820/C/s580592882.cpp\n"
          ]
        },
        {
          "output_type": "stream",
          "name": "stderr",
          "text": [
            "Setting `pad_token_id` to `eos_token_id`:2 for open-end generation.\n"
          ]
        },
        {
          "output_type": "stream",
          "name": "stdout",
          "text": [
            "Translated: input_folder/5solutions/p03820/C/s279582430.c → output_folder/5solutions/p03820/C/s279582430.cpp\n",
            "Translated: input_folder/5solutions/p03820/C/s438471047.c → output_folder/5solutions/p03820/C/s438471047.cpp\n",
            "Translated: input_folder/5solutions/p00160/C/s316066939.c → output_folder/5solutions/p00160/C/s316066939.cpp\n",
            "Translated: input_folder/5solutions/p00160/C/s490714288.c → output_folder/5solutions/p00160/C/s490714288.cpp\n"
          ]
        },
        {
          "output_type": "stream",
          "name": "stderr",
          "text": [
            "Setting `pad_token_id` to `eos_token_id`:2 for open-end generation.\n"
          ]
        },
        {
          "output_type": "stream",
          "name": "stdout",
          "text": [
            "Translated: input_folder/5solutions/p00160/C/s664610757.c → output_folder/5solutions/p00160/C/s664610757.cpp\n",
            "Translated: input_folder/5solutions/p00160/C/s152977601.c → output_folder/5solutions/p00160/C/s152977601.cpp\n",
            "Translated: input_folder/5solutions/p00160/C/s549682294.c → output_folder/5solutions/p00160/C/s549682294.cpp\n",
            "Translated: input_folder/5solutions/p02176/C/s274098483.c → output_folder/5solutions/p02176/C/s274098483.cpp\n"
          ]
        },
        {
          "output_type": "stream",
          "name": "stderr",
          "text": [
            "Setting `pad_token_id` to `eos_token_id`:2 for open-end generation.\n"
          ]
        },
        {
          "output_type": "stream",
          "name": "stdout",
          "text": [
            "Translated: input_folder/5solutions/p02176/C/s615454780.c → output_folder/5solutions/p02176/C/s615454780.cpp\n",
            "Translated: input_folder/5solutions/p02176/C/s318663263.c → output_folder/5solutions/p02176/C/s318663263.cpp\n",
            "Translated: input_folder/5solutions/p02176/C/s419800694.c → output_folder/5solutions/p02176/C/s419800694.cpp\n",
            "Translated: input_folder/5solutions/p02176/C/s951037972.c → output_folder/5solutions/p02176/C/s951037972.cpp\n"
          ]
        },
        {
          "output_type": "stream",
          "name": "stderr",
          "text": [
            "Setting `pad_token_id` to `eos_token_id`:2 for open-end generation.\n"
          ]
        },
        {
          "output_type": "stream",
          "name": "stdout",
          "text": [
            "Translated: input_folder/5solutions/p00129/C/s748830216.c → output_folder/5solutions/p00129/C/s748830216.cpp\n",
            "Translated: input_folder/5solutions/p00129/C/s297379305.c → output_folder/5solutions/p00129/C/s297379305.cpp\n",
            "Translated: input_folder/5solutions/p00129/C/s889296996.c → output_folder/5solutions/p00129/C/s889296996.cpp\n",
            "Translated: input_folder/5solutions/p00129/C/s174215963.c → output_folder/5solutions/p00129/C/s174215963.cpp\n"
          ]
        },
        {
          "output_type": "stream",
          "name": "stderr",
          "text": [
            "Setting `pad_token_id` to `eos_token_id`:2 for open-end generation.\n"
          ]
        },
        {
          "output_type": "stream",
          "name": "stdout",
          "text": [
            "Translated: input_folder/5solutions/p00129/C/s185791597.c → output_folder/5solutions/p00129/C/s185791597.cpp\n",
            "Translated: input_folder/5solutions/p00947/C/s185557298.c → output_folder/5solutions/p00947/C/s185557298.cpp\n",
            "Translated: input_folder/5solutions/p00947/C/s771150380.c → output_folder/5solutions/p00947/C/s771150380.cpp\n",
            "Translated: input_folder/5solutions/p00947/C/s268837874.c → output_folder/5solutions/p00947/C/s268837874.cpp\n"
          ]
        },
        {
          "output_type": "stream",
          "name": "stderr",
          "text": [
            "Setting `pad_token_id` to `eos_token_id`:2 for open-end generation.\n"
          ]
        },
        {
          "output_type": "stream",
          "name": "stdout",
          "text": [
            "Translated: input_folder/5solutions/p00947/C/s109795938.c → output_folder/5solutions/p00947/C/s109795938.cpp\n",
            "Translated: input_folder/5solutions/p00947/C/s406772121.c → output_folder/5solutions/p00947/C/s406772121.cpp\n",
            "Translated: input_folder/5solutions/p02022/C/s399990587.c → output_folder/5solutions/p02022/C/s399990587.cpp\n",
            "Translated: input_folder/5solutions/p02022/C/s231139979.c → output_folder/5solutions/p02022/C/s231139979.cpp\n"
          ]
        },
        {
          "output_type": "stream",
          "name": "stderr",
          "text": [
            "Setting `pad_token_id` to `eos_token_id`:2 for open-end generation.\n"
          ]
        },
        {
          "output_type": "stream",
          "name": "stdout",
          "text": [
            "Translated: input_folder/5solutions/p02022/C/s983907553.c → output_folder/5solutions/p02022/C/s983907553.cpp\n",
            "Translated: input_folder/5solutions/p00080/C/s544829227.c → output_folder/5solutions/p00080/C/s544829227.cpp\n",
            "Translated: input_folder/5solutions/p00080/C/s108338605.c → output_folder/5solutions/p00080/C/s108338605.cpp\n",
            "Translated: input_folder/5solutions/p00080/C/s727894606.c → output_folder/5solutions/p00080/C/s727894606.cpp\n"
          ]
        },
        {
          "output_type": "stream",
          "name": "stderr",
          "text": [
            "Setting `pad_token_id` to `eos_token_id`:2 for open-end generation.\n"
          ]
        },
        {
          "output_type": "stream",
          "name": "stdout",
          "text": [
            "Translated: input_folder/5solutions/p00080/C/s380200044.c → output_folder/5solutions/p00080/C/s380200044.cpp\n",
            "Translated: input_folder/5solutions/p00080/C/s910422529.c → output_folder/5solutions/p00080/C/s910422529.cpp\n",
            "Translated: input_folder/5solutions/p03009/C/s530069808.c → output_folder/5solutions/p03009/C/s530069808.cpp\n",
            "Translated: input_folder/5solutions/p03009/C/s109567358.c → output_folder/5solutions/p03009/C/s109567358.cpp\n"
          ]
        },
        {
          "output_type": "stream",
          "name": "stderr",
          "text": [
            "Setting `pad_token_id` to `eos_token_id`:2 for open-end generation.\n"
          ]
        },
        {
          "output_type": "stream",
          "name": "stdout",
          "text": [
            "Translated: input_folder/5solutions/p03009/C/s184050686.c → output_folder/5solutions/p03009/C/s184050686.cpp\n",
            "Translated: input_folder/5solutions/p02947/C/s321353050.c → output_folder/5solutions/p02947/C/s321353050.cpp\n",
            "Translated: input_folder/5solutions/p02947/C/s527663197.c → output_folder/5solutions/p02947/C/s527663197.cpp\n",
            "Translated: input_folder/5solutions/p02947/C/s716462074.c → output_folder/5solutions/p02947/C/s716462074.cpp\n"
          ]
        },
        {
          "output_type": "stream",
          "name": "stderr",
          "text": [
            "Setting `pad_token_id` to `eos_token_id`:2 for open-end generation.\n"
          ]
        },
        {
          "output_type": "stream",
          "name": "stdout",
          "text": [
            "Translated: input_folder/5solutions/p02947/C/s375658974.c → output_folder/5solutions/p02947/C/s375658974.cpp\n",
            "Translated: input_folder/5solutions/p02947/C/s363272349.c → output_folder/5solutions/p02947/C/s363272349.cpp\n",
            "Translated: input_folder/5solutions/p01407/C/s101948412.c → output_folder/5solutions/p01407/C/s101948412.cpp\n",
            "Translated: input_folder/5solutions/p01407/C/s072172154.c → output_folder/5solutions/p01407/C/s072172154.cpp\n"
          ]
        },
        {
          "output_type": "stream",
          "name": "stderr",
          "text": [
            "Setting `pad_token_id` to `eos_token_id`:2 for open-end generation.\n"
          ]
        },
        {
          "output_type": "stream",
          "name": "stdout",
          "text": [
            "Translated: input_folder/5solutions/p01407/C/s572419465.c → output_folder/5solutions/p01407/C/s572419465.cpp\n",
            "Translated: input_folder/5solutions/p03686/C/s761559470.c → output_folder/5solutions/p03686/C/s761559470.cpp\n",
            "Translated: input_folder/5solutions/p01236/C/s603574654.c → output_folder/5solutions/p01236/C/s603574654.cpp\n",
            "Translated: input_folder/5solutions/p02240/C/s436932633.c → output_folder/5solutions/p02240/C/s436932633.cpp\n"
          ]
        },
        {
          "output_type": "stream",
          "name": "stderr",
          "text": [
            "Setting `pad_token_id` to `eos_token_id`:2 for open-end generation.\n"
          ]
        },
        {
          "output_type": "stream",
          "name": "stdout",
          "text": [
            "Translated: input_folder/5solutions/p02240/C/s269785698.c → output_folder/5solutions/p02240/C/s269785698.cpp\n",
            "Translated: input_folder/5solutions/p02240/C/s285649987.c → output_folder/5solutions/p02240/C/s285649987.cpp\n",
            "Translated: input_folder/5solutions/p02240/C/s222948256.c → output_folder/5solutions/p02240/C/s222948256.cpp\n",
            "Translated: input_folder/5solutions/p02240/C/s053206267.c → output_folder/5solutions/p02240/C/s053206267.cpp\n"
          ]
        },
        {
          "output_type": "stream",
          "name": "stderr",
          "text": [
            "Setting `pad_token_id` to `eos_token_id`:2 for open-end generation.\n"
          ]
        },
        {
          "output_type": "stream",
          "name": "stdout",
          "text": [
            "Translated: input_folder/5solutions/p02833/C/s640721453.c → output_folder/5solutions/p02833/C/s640721453.cpp\n",
            "Translated: input_folder/5solutions/p02833/C/s060398469.c → output_folder/5solutions/p02833/C/s060398469.cpp\n",
            "Translated: input_folder/5solutions/p02833/C/s460390188.c → output_folder/5solutions/p02833/C/s460390188.cpp\n",
            "Translated: input_folder/5solutions/p02833/C/s344162803.c → output_folder/5solutions/p02833/C/s344162803.cpp\n"
          ]
        },
        {
          "output_type": "stream",
          "name": "stderr",
          "text": [
            "Setting `pad_token_id` to `eos_token_id`:2 for open-end generation.\n"
          ]
        },
        {
          "output_type": "stream",
          "name": "stdout",
          "text": [
            "Translated: input_folder/5solutions/p02833/C/s547888641.c → output_folder/5solutions/p02833/C/s547888641.cpp\n",
            "Translated: input_folder/5solutions/p00659/C/s938853803.c → output_folder/5solutions/p00659/C/s938853803.cpp\n",
            "Translated: input_folder/5solutions/p00659/C/s013851689.c → output_folder/5solutions/p00659/C/s013851689.cpp\n",
            "Translated: input_folder/5solutions/p00659/C/s325088321.c → output_folder/5solutions/p00659/C/s325088321.cpp\n"
          ]
        },
        {
          "output_type": "stream",
          "name": "stderr",
          "text": [
            "Setting `pad_token_id` to `eos_token_id`:2 for open-end generation.\n"
          ]
        },
        {
          "output_type": "stream",
          "name": "stdout",
          "text": [
            "Translated: input_folder/5solutions/p00659/C/s566995415.c → output_folder/5solutions/p00659/C/s566995415.cpp\n",
            "Translated: input_folder/5solutions/p00659/C/s245833051.c → output_folder/5solutions/p00659/C/s245833051.cpp\n",
            "Translated: input_folder/5solutions/p01770/C/s907654460.c → output_folder/5solutions/p01770/C/s907654460.cpp\n",
            "Translated: input_folder/5solutions/p02257/C/s204016000.c → output_folder/5solutions/p02257/C/s204016000.cpp\n"
          ]
        },
        {
          "output_type": "stream",
          "name": "stderr",
          "text": [
            "Setting `pad_token_id` to `eos_token_id`:2 for open-end generation.\n"
          ]
        },
        {
          "output_type": "stream",
          "name": "stdout",
          "text": [
            "Translated: input_folder/5solutions/p02257/C/s811563010.c → output_folder/5solutions/p02257/C/s811563010.cpp\n",
            "Translated: input_folder/5solutions/p02257/C/s429473385.c → output_folder/5solutions/p02257/C/s429473385.cpp\n",
            "Translated: input_folder/5solutions/p02257/C/s209769143.c → output_folder/5solutions/p02257/C/s209769143.cpp\n",
            "Translated: input_folder/5solutions/p02257/C/s100455752.c → output_folder/5solutions/p02257/C/s100455752.cpp\n"
          ]
        },
        {
          "output_type": "stream",
          "name": "stderr",
          "text": [
            "Setting `pad_token_id` to `eos_token_id`:2 for open-end generation.\n"
          ]
        },
        {
          "output_type": "stream",
          "name": "stdout",
          "text": [
            "Translated: input_folder/5solutions/p01376/C/s797980046.c → output_folder/5solutions/p01376/C/s797980046.cpp\n",
            "Translated: input_folder/5solutions/p01376/C/s076152972.c → output_folder/5solutions/p01376/C/s076152972.cpp\n",
            "Translated: input_folder/5solutions/p01376/C/s120501869.c → output_folder/5solutions/p01376/C/s120501869.cpp\n",
            "Translated: input_folder/5solutions/p01376/C/s643209729.c → output_folder/5solutions/p01376/C/s643209729.cpp\n"
          ]
        },
        {
          "output_type": "stream",
          "name": "stderr",
          "text": [
            "Setting `pad_token_id` to `eos_token_id`:2 for open-end generation.\n"
          ]
        },
        {
          "output_type": "stream",
          "name": "stdout",
          "text": [
            "Translated: input_folder/5solutions/p01376/C/s336642537.c → output_folder/5solutions/p01376/C/s336642537.cpp\n",
            "Translated: input_folder/5solutions/p00288/C/s927961714.c → output_folder/5solutions/p00288/C/s927961714.cpp\n",
            "Translated: input_folder/5solutions/p00288/C/s012658010.c → output_folder/5solutions/p00288/C/s012658010.cpp\n",
            "Translated: input_folder/5solutions/p00288/C/s017316805.c → output_folder/5solutions/p00288/C/s017316805.cpp\n"
          ]
        },
        {
          "output_type": "stream",
          "name": "stderr",
          "text": [
            "Setting `pad_token_id` to `eos_token_id`:2 for open-end generation.\n"
          ]
        },
        {
          "output_type": "stream",
          "name": "stdout",
          "text": [
            "Translated: input_folder/5solutions/p00363/C/s599692347.c → output_folder/5solutions/p00363/C/s599692347.cpp\n",
            "Translated: input_folder/5solutions/p00363/C/s661569977.c → output_folder/5solutions/p00363/C/s661569977.cpp\n",
            "Translated: input_folder/5solutions/p00363/C/s305418206.c → output_folder/5solutions/p00363/C/s305418206.cpp\n",
            "Translated: input_folder/5solutions/p00363/C/s542185265.c → output_folder/5solutions/p00363/C/s542185265.cpp\n"
          ]
        },
        {
          "output_type": "stream",
          "name": "stderr",
          "text": [
            "Setting `pad_token_id` to `eos_token_id`:2 for open-end generation.\n"
          ]
        },
        {
          "output_type": "stream",
          "name": "stdout",
          "text": [
            "Translated: input_folder/5solutions/p00363/C/s572677322.c → output_folder/5solutions/p00363/C/s572677322.cpp\n",
            "Translated: input_folder/5solutions/p02972/C/s934862750.c → output_folder/5solutions/p02972/C/s934862750.cpp\n",
            "Translated: input_folder/5solutions/p02972/C/s416857283.c → output_folder/5solutions/p02972/C/s416857283.cpp\n",
            "Translated: input_folder/5solutions/p02972/C/s060393584.c → output_folder/5solutions/p02972/C/s060393584.cpp\n"
          ]
        },
        {
          "output_type": "stream",
          "name": "stderr",
          "text": [
            "Setting `pad_token_id` to `eos_token_id`:2 for open-end generation.\n"
          ]
        },
        {
          "output_type": "stream",
          "name": "stdout",
          "text": [
            "Translated: input_folder/5solutions/p02972/C/s326358880.c → output_folder/5solutions/p02972/C/s326358880.cpp\n",
            "Translated: input_folder/5solutions/p02972/C/s507076278.c → output_folder/5solutions/p02972/C/s507076278.cpp\n",
            "Translated: input_folder/5solutions/p01766/C/s157125014.c → output_folder/5solutions/p01766/C/s157125014.cpp\n",
            "Translated: input_folder/5solutions/p01766/C/s209306524.c → output_folder/5solutions/p01766/C/s209306524.cpp\n"
          ]
        },
        {
          "output_type": "stream",
          "name": "stderr",
          "text": [
            "Setting `pad_token_id` to `eos_token_id`:2 for open-end generation.\n"
          ]
        },
        {
          "output_type": "stream",
          "name": "stdout",
          "text": [
            "Translated: input_folder/5solutions/p01766/C/s587869414.c → output_folder/5solutions/p01766/C/s587869414.cpp\n",
            "Translated: input_folder/5solutions/p01766/C/s231159867.c → output_folder/5solutions/p01766/C/s231159867.cpp\n",
            "Translated: input_folder/5solutions/p01766/C/s035320780.c → output_folder/5solutions/p01766/C/s035320780.cpp\n",
            "Translated: input_folder/5solutions/p00719/C/s637683235.c → output_folder/5solutions/p00719/C/s637683235.cpp\n"
          ]
        },
        {
          "output_type": "stream",
          "name": "stderr",
          "text": [
            "Setting `pad_token_id` to `eos_token_id`:2 for open-end generation.\n"
          ]
        },
        {
          "output_type": "stream",
          "name": "stdout",
          "text": [
            "Translated: input_folder/5solutions/p00719/C/s033445864.c → output_folder/5solutions/p00719/C/s033445864.cpp\n",
            "Translated: input_folder/5solutions/p00719/C/s323355147.c → output_folder/5solutions/p00719/C/s323355147.cpp\n",
            "Translated: input_folder/5solutions/p00719/C/s180619463.c → output_folder/5solutions/p00719/C/s180619463.cpp\n",
            "Translated: input_folder/5solutions/p00719/C/s564078921.c → output_folder/5solutions/p00719/C/s564078921.cpp\n"
          ]
        },
        {
          "output_type": "stream",
          "name": "stderr",
          "text": [
            "Setting `pad_token_id` to `eos_token_id`:2 for open-end generation.\n"
          ]
        },
        {
          "output_type": "stream",
          "name": "stdout",
          "text": [
            "Translated: input_folder/5solutions/p01909/C/s826008096.c → output_folder/5solutions/p01909/C/s826008096.cpp\n",
            "Translated: input_folder/5solutions/p01909/C/s265213589.c → output_folder/5solutions/p01909/C/s265213589.cpp\n",
            "Translated: input_folder/5solutions/p01909/C/s007439732.c → output_folder/5solutions/p01909/C/s007439732.cpp\n",
            "Translated: input_folder/5solutions/p01353/C/s907953827.c → output_folder/5solutions/p01353/C/s907953827.cpp\n"
          ]
        },
        {
          "output_type": "stream",
          "name": "stderr",
          "text": [
            "Setting `pad_token_id` to `eos_token_id`:2 for open-end generation.\n"
          ]
        },
        {
          "output_type": "stream",
          "name": "stdout",
          "text": [
            "Translated: input_folder/5solutions/p01353/C/s505187468.c → output_folder/5solutions/p01353/C/s505187468.cpp\n",
            "Translated: input_folder/5solutions/p00548/C/s114847116.c → output_folder/5solutions/p00548/C/s114847116.cpp\n",
            "Translated: input_folder/5solutions/p00548/C/s263160790.c → output_folder/5solutions/p00548/C/s263160790.cpp\n",
            "Translated: input_folder/5solutions/p00548/C/s835934524.c → output_folder/5solutions/p00548/C/s835934524.cpp\n"
          ]
        },
        {
          "output_type": "stream",
          "name": "stderr",
          "text": [
            "Setting `pad_token_id` to `eos_token_id`:2 for open-end generation.\n"
          ]
        },
        {
          "output_type": "stream",
          "name": "stdout",
          "text": [
            "Translated: input_folder/5solutions/p02536/C/s722688722.c → output_folder/5solutions/p02536/C/s722688722.cpp\n",
            "Translated: input_folder/5solutions/p02536/C/s169473398.c → output_folder/5solutions/p02536/C/s169473398.cpp\n",
            "Translated: input_folder/5solutions/p02536/C/s867548078.c → output_folder/5solutions/p02536/C/s867548078.cpp\n",
            "Translated: input_folder/5solutions/p02536/C/s769234720.c → output_folder/5solutions/p02536/C/s769234720.cpp\n"
          ]
        },
        {
          "output_type": "stream",
          "name": "stderr",
          "text": [
            "Setting `pad_token_id` to `eos_token_id`:2 for open-end generation.\n"
          ]
        },
        {
          "output_type": "stream",
          "name": "stdout",
          "text": [
            "Translated: input_folder/5solutions/p02536/C/s222469364.c → output_folder/5solutions/p02536/C/s222469364.cpp\n",
            "Translated: input_folder/5solutions/p02065/C/s247922627.c → output_folder/5solutions/p02065/C/s247922627.cpp\n",
            "Translated: input_folder/5solutions/p02623/C/s094107533.c → output_folder/5solutions/p02623/C/s094107533.cpp\n",
            "Translated: input_folder/5solutions/p02623/C/s476667821.c → output_folder/5solutions/p02623/C/s476667821.cpp\n"
          ]
        },
        {
          "output_type": "stream",
          "name": "stderr",
          "text": [
            "Setting `pad_token_id` to `eos_token_id`:2 for open-end generation.\n"
          ]
        },
        {
          "output_type": "stream",
          "name": "stdout",
          "text": [
            "Translated: input_folder/5solutions/p02623/C/s138533011.c → output_folder/5solutions/p02623/C/s138533011.cpp\n",
            "Translated: input_folder/5solutions/p02623/C/s437399126.c → output_folder/5solutions/p02623/C/s437399126.cpp\n",
            "Translated: input_folder/5solutions/p02623/C/s920746450.c → output_folder/5solutions/p02623/C/s920746450.cpp\n",
            "Translated: input_folder/5solutions/p00136/C/s125609839.c → output_folder/5solutions/p00136/C/s125609839.cpp\n"
          ]
        },
        {
          "output_type": "stream",
          "name": "stderr",
          "text": [
            "Setting `pad_token_id` to `eos_token_id`:2 for open-end generation.\n"
          ]
        },
        {
          "output_type": "stream",
          "name": "stdout",
          "text": [
            "Translated: input_folder/5solutions/p00136/C/s156618637.c → output_folder/5solutions/p00136/C/s156618637.cpp\n",
            "Translated: input_folder/5solutions/p00136/C/s398366511.c → output_folder/5solutions/p00136/C/s398366511.cpp\n",
            "Translated: input_folder/5solutions/p00136/C/s673668287.c → output_folder/5solutions/p00136/C/s673668287.cpp\n",
            "Translated: input_folder/5solutions/p00136/C/s647331243.c → output_folder/5solutions/p00136/C/s647331243.cpp\n"
          ]
        },
        {
          "output_type": "stream",
          "name": "stderr",
          "text": [
            "Setting `pad_token_id` to `eos_token_id`:2 for open-end generation.\n"
          ]
        },
        {
          "output_type": "stream",
          "name": "stdout",
          "text": [
            "Translated: input_folder/5solutions/p01256/C/s817531765.c → output_folder/5solutions/p01256/C/s817531765.cpp\n",
            "Translated: input_folder/5solutions/p03384/C/s593320533.c → output_folder/5solutions/p03384/C/s593320533.cpp\n",
            "Translated: input_folder/5solutions/p03384/C/s176197699.c → output_folder/5solutions/p03384/C/s176197699.cpp\n",
            "Translated: input_folder/5solutions/p03384/C/s423601971.c → output_folder/5solutions/p03384/C/s423601971.cpp\n"
          ]
        },
        {
          "output_type": "stream",
          "name": "stderr",
          "text": [
            "Setting `pad_token_id` to `eos_token_id`:2 for open-end generation.\n"
          ]
        },
        {
          "output_type": "stream",
          "name": "stdout",
          "text": [
            "Translated: input_folder/5solutions/p03384/C/s825222702.c → output_folder/5solutions/p03384/C/s825222702.cpp\n",
            "Translated: input_folder/5solutions/p03384/C/s861010910.c → output_folder/5solutions/p03384/C/s861010910.cpp\n",
            "Translated: input_folder/5solutions/p00423/C/s090099455.c → output_folder/5solutions/p00423/C/s090099455.cpp\n",
            "Translated: input_folder/5solutions/p00423/C/s633673568.c → output_folder/5solutions/p00423/C/s633673568.cpp\n"
          ]
        },
        {
          "output_type": "stream",
          "name": "stderr",
          "text": [
            "Setting `pad_token_id` to `eos_token_id`:2 for open-end generation.\n"
          ]
        },
        {
          "output_type": "stream",
          "name": "stdout",
          "text": [
            "Translated: input_folder/5solutions/p00423/C/s444360457.c → output_folder/5solutions/p00423/C/s444360457.cpp\n",
            "Translated: input_folder/5solutions/p00423/C/s078442975.c → output_folder/5solutions/p00423/C/s078442975.cpp\n",
            "Translated: input_folder/5solutions/p00423/C/s848514225.c → output_folder/5solutions/p00423/C/s848514225.cpp\n",
            "Translated: input_folder/5solutions/p02906/C/s588629806.c → output_folder/5solutions/p02906/C/s588629806.cpp\n"
          ]
        },
        {
          "output_type": "stream",
          "name": "stderr",
          "text": [
            "Setting `pad_token_id` to `eos_token_id`:2 for open-end generation.\n"
          ]
        },
        {
          "output_type": "stream",
          "name": "stdout",
          "text": [
            "Translated: input_folder/5solutions/p02906/C/s990472062.c → output_folder/5solutions/p02906/C/s990472062.cpp\n",
            "Translated: input_folder/5solutions/p02987/C/s534203644.c → output_folder/5solutions/p02987/C/s534203644.cpp\n",
            "Translated: input_folder/5solutions/p02987/C/s003842476.c → output_folder/5solutions/p02987/C/s003842476.cpp\n",
            "Translated: input_folder/5solutions/p02987/C/s836760553.c → output_folder/5solutions/p02987/C/s836760553.cpp\n"
          ]
        },
        {
          "output_type": "stream",
          "name": "stderr",
          "text": [
            "Setting `pad_token_id` to `eos_token_id`:2 for open-end generation.\n"
          ]
        },
        {
          "output_type": "stream",
          "name": "stdout",
          "text": [
            "Translated: input_folder/5solutions/p02987/C/s808133597.c → output_folder/5solutions/p02987/C/s808133597.cpp\n",
            "Translated: input_folder/5solutions/p02987/C/s618492331.c → output_folder/5solutions/p02987/C/s618492331.cpp\n",
            "Translated: input_folder/5solutions/p03293/C/s330380538.c → output_folder/5solutions/p03293/C/s330380538.cpp\n",
            "Translated: input_folder/5solutions/p03293/C/s324541045.c → output_folder/5solutions/p03293/C/s324541045.cpp\n"
          ]
        },
        {
          "output_type": "stream",
          "name": "stderr",
          "text": [
            "Setting `pad_token_id` to `eos_token_id`:2 for open-end generation.\n"
          ]
        },
        {
          "output_type": "stream",
          "name": "stdout",
          "text": [
            "Translated: input_folder/5solutions/p03293/C/s818643674.c → output_folder/5solutions/p03293/C/s818643674.cpp\n",
            "Translated: input_folder/5solutions/p03293/C/s679333926.c → output_folder/5solutions/p03293/C/s679333926.cpp\n",
            "Translated: input_folder/5solutions/p03293/C/s726386272.c → output_folder/5solutions/p03293/C/s726386272.cpp\n",
            "Translated: input_folder/5solutions/p03836/C/s636125387.c → output_folder/5solutions/p03836/C/s636125387.cpp\n"
          ]
        },
        {
          "output_type": "stream",
          "name": "stderr",
          "text": [
            "Setting `pad_token_id` to `eos_token_id`:2 for open-end generation.\n"
          ]
        },
        {
          "output_type": "stream",
          "name": "stdout",
          "text": [
            "Translated: input_folder/5solutions/p03836/C/s848343528.c → output_folder/5solutions/p03836/C/s848343528.cpp\n",
            "Translated: input_folder/5solutions/p03836/C/s701586548.c → output_folder/5solutions/p03836/C/s701586548.cpp\n",
            "Translated: input_folder/5solutions/p03836/C/s314245189.c → output_folder/5solutions/p03836/C/s314245189.cpp\n",
            "Translated: input_folder/5solutions/p03836/C/s787687554.c → output_folder/5solutions/p03836/C/s787687554.cpp\n"
          ]
        },
        {
          "output_type": "stream",
          "name": "stderr",
          "text": [
            "Setting `pad_token_id` to `eos_token_id`:2 for open-end generation.\n"
          ]
        },
        {
          "output_type": "stream",
          "name": "stdout",
          "text": [
            "Translated: input_folder/5solutions/p00379/C/s073161129.c → output_folder/5solutions/p00379/C/s073161129.cpp\n",
            "Translated: input_folder/5solutions/p00379/C/s021676712.c → output_folder/5solutions/p00379/C/s021676712.cpp\n",
            "Translated: input_folder/5solutions/p00379/C/s063223882.c → output_folder/5solutions/p00379/C/s063223882.cpp\n",
            "Translated: input_folder/5solutions/p00379/C/s246487450.c → output_folder/5solutions/p00379/C/s246487450.cpp\n"
          ]
        },
        {
          "output_type": "stream",
          "name": "stderr",
          "text": [
            "Setting `pad_token_id` to `eos_token_id`:2 for open-end generation.\n"
          ]
        },
        {
          "output_type": "stream",
          "name": "stdout",
          "text": [
            "Translated: input_folder/5solutions/p00379/C/s716893820.c → output_folder/5solutions/p00379/C/s716893820.cpp\n",
            "Translated: input_folder/5solutions/p01075/C/s763432701.c → output_folder/5solutions/p01075/C/s763432701.cpp\n",
            "Translated: input_folder/5solutions/p01075/C/s219766004.c → output_folder/5solutions/p01075/C/s219766004.cpp\n",
            "Translated: input_folder/5solutions/p01075/C/s284902435.c → output_folder/5solutions/p01075/C/s284902435.cpp\n"
          ]
        },
        {
          "output_type": "stream",
          "name": "stderr",
          "text": [
            "Setting `pad_token_id` to `eos_token_id`:2 for open-end generation.\n"
          ]
        },
        {
          "output_type": "stream",
          "name": "stdout",
          "text": [
            "Translated: input_folder/5solutions/p01075/C/s709994169.c → output_folder/5solutions/p01075/C/s709994169.cpp\n",
            "Translated: input_folder/5solutions/p01075/C/s406935172.c → output_folder/5solutions/p01075/C/s406935172.cpp\n",
            "Translated: input_folder/5solutions/p00333/C/s351017759.c → output_folder/5solutions/p00333/C/s351017759.cpp\n",
            "Translated: input_folder/5solutions/p00333/C/s902354004.c → output_folder/5solutions/p00333/C/s902354004.cpp\n"
          ]
        },
        {
          "output_type": "stream",
          "name": "stderr",
          "text": [
            "Setting `pad_token_id` to `eos_token_id`:2 for open-end generation.\n"
          ]
        },
        {
          "output_type": "stream",
          "name": "stdout",
          "text": [
            "Translated: input_folder/5solutions/p00333/C/s483252224.c → output_folder/5solutions/p00333/C/s483252224.cpp\n",
            "Translated: input_folder/5solutions/p00333/C/s658225897.c → output_folder/5solutions/p00333/C/s658225897.cpp\n",
            "Translated: input_folder/5solutions/p00333/C/s774490058.c → output_folder/5solutions/p00333/C/s774490058.cpp\n",
            "Translated: input_folder/5solutions/p02534/C/s356858828.c → output_folder/5solutions/p02534/C/s356858828.cpp\n"
          ]
        },
        {
          "output_type": "stream",
          "name": "stderr",
          "text": [
            "Setting `pad_token_id` to `eos_token_id`:2 for open-end generation.\n"
          ]
        },
        {
          "output_type": "stream",
          "name": "stdout",
          "text": [
            "Translated: input_folder/5solutions/p02534/C/s199606881.c → output_folder/5solutions/p02534/C/s199606881.cpp\n",
            "Translated: input_folder/5solutions/p02534/C/s395176212.c → output_folder/5solutions/p02534/C/s395176212.cpp\n",
            "Translated: input_folder/5solutions/p02534/C/s357747283.c → output_folder/5solutions/p02534/C/s357747283.cpp\n",
            "Translated: input_folder/5solutions/p02534/C/s014402147.c → output_folder/5solutions/p02534/C/s014402147.cpp\n"
          ]
        },
        {
          "output_type": "stream",
          "name": "stderr",
          "text": [
            "Setting `pad_token_id` to `eos_token_id`:2 for open-end generation.\n"
          ]
        },
        {
          "output_type": "stream",
          "name": "stdout",
          "text": [
            "Translated: input_folder/5solutions/p01201/C/s474867793.c → output_folder/5solutions/p01201/C/s474867793.cpp\n",
            "Translated: input_folder/5solutions/p01201/C/s028503480.c → output_folder/5solutions/p01201/C/s028503480.cpp\n",
            "Translated: input_folder/5solutions/p01201/C/s967715312.c → output_folder/5solutions/p01201/C/s967715312.cpp\n",
            "Translated: input_folder/5solutions/p01418/C/s907726293.c → output_folder/5solutions/p01418/C/s907726293.cpp\n"
          ]
        },
        {
          "output_type": "stream",
          "name": "stderr",
          "text": [
            "Setting `pad_token_id` to `eos_token_id`:2 for open-end generation.\n"
          ]
        },
        {
          "output_type": "stream",
          "name": "stdout",
          "text": [
            "Translated: input_folder/5solutions/p01418/C/s212806323.c → output_folder/5solutions/p01418/C/s212806323.cpp\n",
            "Translated: input_folder/5solutions/p01418/C/s859067641.c → output_folder/5solutions/p01418/C/s859067641.cpp\n",
            "Translated: input_folder/5solutions/p01418/C/s229815694.c → output_folder/5solutions/p01418/C/s229815694.cpp\n",
            "Translated: input_folder/5solutions/p02549/C/s529892128.c → output_folder/5solutions/p02549/C/s529892128.cpp\n"
          ]
        },
        {
          "output_type": "stream",
          "name": "stderr",
          "text": [
            "Setting `pad_token_id` to `eos_token_id`:2 for open-end generation.\n"
          ]
        },
        {
          "output_type": "stream",
          "name": "stdout",
          "text": [
            "Translated: input_folder/5solutions/p02549/C/s054857127.c → output_folder/5solutions/p02549/C/s054857127.cpp\n",
            "Translated: input_folder/5solutions/p02549/C/s232860185.c → output_folder/5solutions/p02549/C/s232860185.cpp\n",
            "Translated: input_folder/5solutions/p02549/C/s613603393.c → output_folder/5solutions/p02549/C/s613603393.cpp\n",
            "Translated: input_folder/5solutions/p02549/C/s131892344.c → output_folder/5solutions/p02549/C/s131892344.cpp\n"
          ]
        },
        {
          "output_type": "stream",
          "name": "stderr",
          "text": [
            "Setting `pad_token_id` to `eos_token_id`:2 for open-end generation.\n"
          ]
        },
        {
          "output_type": "stream",
          "name": "stdout",
          "text": [
            "Translated: input_folder/5solutions/p03765/C/s463238753.c → output_folder/5solutions/p03765/C/s463238753.cpp\n",
            "Translated: input_folder/5solutions/p03765/C/s704863116.c → output_folder/5solutions/p03765/C/s704863116.cpp\n",
            "Translated: input_folder/5solutions/p03765/C/s584821561.c → output_folder/5solutions/p03765/C/s584821561.cpp\n",
            "Translated: input_folder/5solutions/p03765/C/s130075400.c → output_folder/5solutions/p03765/C/s130075400.cpp\n"
          ]
        },
        {
          "output_type": "stream",
          "name": "stderr",
          "text": [
            "Setting `pad_token_id` to `eos_token_id`:2 for open-end generation.\n"
          ]
        },
        {
          "output_type": "stream",
          "name": "stdout",
          "text": [
            "Translated: input_folder/5solutions/p03765/C/s661956486.c → output_folder/5solutions/p03765/C/s661956486.cpp\n",
            "Translated: input_folder/5solutions/p01368/C/s479585832.c → output_folder/5solutions/p01368/C/s479585832.cpp\n",
            "Translated: input_folder/5solutions/p01368/C/s678433337.c → output_folder/5solutions/p01368/C/s678433337.cpp\n",
            "Translated: input_folder/5solutions/p01368/C/s235718626.c → output_folder/5solutions/p01368/C/s235718626.cpp\n"
          ]
        },
        {
          "output_type": "stream",
          "name": "stderr",
          "text": [
            "Setting `pad_token_id` to `eos_token_id`:2 for open-end generation.\n"
          ]
        },
        {
          "output_type": "stream",
          "name": "stdout",
          "text": [
            "Translated: input_folder/5solutions/p01368/C/s710482846.c → output_folder/5solutions/p01368/C/s710482846.cpp\n",
            "Translated: input_folder/5solutions/p01368/C/s589410552.c → output_folder/5solutions/p01368/C/s589410552.cpp\n",
            "Translated: input_folder/5solutions/p00465/C/s979916124.c → output_folder/5solutions/p00465/C/s979916124.cpp\n",
            "Translated: input_folder/5solutions/p00465/C/s032767320.c → output_folder/5solutions/p00465/C/s032767320.cpp\n"
          ]
        },
        {
          "output_type": "stream",
          "name": "stderr",
          "text": [
            "Setting `pad_token_id` to `eos_token_id`:2 for open-end generation.\n"
          ]
        },
        {
          "output_type": "stream",
          "name": "stdout",
          "text": [
            "Translated: input_folder/5solutions/p00465/C/s940170526.c → output_folder/5solutions/p00465/C/s940170526.cpp\n",
            "Translated: input_folder/5solutions/p03921/C/s175362149.c → output_folder/5solutions/p03921/C/s175362149.cpp\n",
            "Translated: input_folder/5solutions/p03921/C/s508974433.c → output_folder/5solutions/p03921/C/s508974433.cpp\n",
            "Translated: input_folder/5solutions/p03921/C/s108174739.c → output_folder/5solutions/p03921/C/s108174739.cpp\n"
          ]
        },
        {
          "output_type": "stream",
          "name": "stderr",
          "text": [
            "Setting `pad_token_id` to `eos_token_id`:2 for open-end generation.\n"
          ]
        },
        {
          "output_type": "stream",
          "name": "stdout",
          "text": [
            "Translated: input_folder/5solutions/p03921/C/s820379417.c → output_folder/5solutions/p03921/C/s820379417.cpp\n",
            "Translated: input_folder/5solutions/p03921/C/s830852069.c → output_folder/5solutions/p03921/C/s830852069.cpp\n",
            "Translated: input_folder/5solutions/p03184/C/s590372406.c → output_folder/5solutions/p03184/C/s590372406.cpp\n",
            "Translated: input_folder/5solutions/p03184/C/s718638166.c → output_folder/5solutions/p03184/C/s718638166.cpp\n"
          ]
        },
        {
          "output_type": "stream",
          "name": "stderr",
          "text": [
            "Setting `pad_token_id` to `eos_token_id`:2 for open-end generation.\n"
          ]
        },
        {
          "output_type": "stream",
          "name": "stdout",
          "text": [
            "Translated: input_folder/5solutions/p03184/C/s977516499.c → output_folder/5solutions/p03184/C/s977516499.cpp\n",
            "Translated: input_folder/5solutions/p03184/C/s467767380.c → output_folder/5solutions/p03184/C/s467767380.cpp\n",
            "Translated: input_folder/5solutions/p03184/C/s154626700.c → output_folder/5solutions/p03184/C/s154626700.cpp\n",
            "Translated: input_folder/5solutions/p03378/C/s861759648.c → output_folder/5solutions/p03378/C/s861759648.cpp\n"
          ]
        },
        {
          "output_type": "stream",
          "name": "stderr",
          "text": [
            "Setting `pad_token_id` to `eos_token_id`:2 for open-end generation.\n"
          ]
        },
        {
          "output_type": "stream",
          "name": "stdout",
          "text": [
            "Translated: input_folder/5solutions/p03378/C/s947789026.c → output_folder/5solutions/p03378/C/s947789026.cpp\n",
            "Translated: input_folder/5solutions/p03378/C/s555914955.c → output_folder/5solutions/p03378/C/s555914955.cpp\n",
            "Translated: input_folder/5solutions/p03378/C/s557045235.c → output_folder/5solutions/p03378/C/s557045235.cpp\n",
            "Translated: input_folder/5solutions/p03378/C/s368964614.c → output_folder/5solutions/p03378/C/s368964614.cpp\n"
          ]
        },
        {
          "output_type": "stream",
          "name": "stderr",
          "text": [
            "Setting `pad_token_id` to `eos_token_id`:2 for open-end generation.\n"
          ]
        },
        {
          "output_type": "stream",
          "name": "stdout",
          "text": [
            "Translated: input_folder/5solutions/p01147/C/s590447842.c → output_folder/5solutions/p01147/C/s590447842.cpp\n",
            "Translated: input_folder/5solutions/p01147/C/s258229432.c → output_folder/5solutions/p01147/C/s258229432.cpp\n",
            "Translated: input_folder/5solutions/p00189/C/s260998870.c → output_folder/5solutions/p00189/C/s260998870.cpp\n",
            "Translated: input_folder/5solutions/p00189/C/s014881842.c → output_folder/5solutions/p00189/C/s014881842.cpp\n"
          ]
        },
        {
          "output_type": "stream",
          "name": "stderr",
          "text": [
            "Setting `pad_token_id` to `eos_token_id`:2 for open-end generation.\n"
          ]
        },
        {
          "output_type": "stream",
          "name": "stdout",
          "text": [
            "Translated: input_folder/5solutions/p00189/C/s320091762.c → output_folder/5solutions/p00189/C/s320091762.cpp\n",
            "Translated: input_folder/5solutions/p00189/C/s938571066.c → output_folder/5solutions/p00189/C/s938571066.cpp\n",
            "Translated: input_folder/5solutions/p00189/C/s485779555.c → output_folder/5solutions/p00189/C/s485779555.cpp\n",
            "Translated: input_folder/5solutions/p01600/C/s144711670.c → output_folder/5solutions/p01600/C/s144711670.cpp\n"
          ]
        },
        {
          "output_type": "stream",
          "name": "stderr",
          "text": [
            "Setting `pad_token_id` to `eos_token_id`:2 for open-end generation.\n"
          ]
        },
        {
          "output_type": "stream",
          "name": "stdout",
          "text": [
            "Translated: input_folder/5solutions/p01600/C/s019997628.c → output_folder/5solutions/p01600/C/s019997628.cpp\n",
            "Translated: input_folder/5solutions/p03482/C/s217392077.c → output_folder/5solutions/p03482/C/s217392077.cpp\n",
            "Translated: input_folder/5solutions/p03482/C/s186235299.c → output_folder/5solutions/p03482/C/s186235299.cpp\n",
            "Translated: input_folder/5solutions/p03482/C/s057994815.c → output_folder/5solutions/p03482/C/s057994815.cpp\n"
          ]
        },
        {
          "output_type": "stream",
          "name": "stderr",
          "text": [
            "Setting `pad_token_id` to `eos_token_id`:2 for open-end generation.\n"
          ]
        },
        {
          "output_type": "stream",
          "name": "stdout",
          "text": [
            "Translated: input_folder/5solutions/p03482/C/s179954434.c → output_folder/5solutions/p03482/C/s179954434.cpp\n",
            "Translated: input_folder/5solutions/p03482/C/s709144779.c → output_folder/5solutions/p03482/C/s709144779.cpp\n",
            "Translated: input_folder/5solutions/p03284/C/s915404534.c → output_folder/5solutions/p03284/C/s915404534.cpp\n",
            "Translated: input_folder/5solutions/p03284/C/s771791992.c → output_folder/5solutions/p03284/C/s771791992.cpp\n"
          ]
        },
        {
          "output_type": "stream",
          "name": "stderr",
          "text": [
            "Setting `pad_token_id` to `eos_token_id`:2 for open-end generation.\n"
          ]
        },
        {
          "output_type": "stream",
          "name": "stdout",
          "text": [
            "Translated: input_folder/5solutions/p03284/C/s672020025.c → output_folder/5solutions/p03284/C/s672020025.cpp\n",
            "Translated: input_folder/5solutions/p03284/C/s829642577.c → output_folder/5solutions/p03284/C/s829642577.cpp\n",
            "Translated: input_folder/5solutions/p03284/C/s324908458.c → output_folder/5solutions/p03284/C/s324908458.cpp\n",
            "Translated: input_folder/5solutions/p03754/C/s159297755.c → output_folder/5solutions/p03754/C/s159297755.cpp\n"
          ]
        },
        {
          "output_type": "stream",
          "name": "stderr",
          "text": [
            "Setting `pad_token_id` to `eos_token_id`:2 for open-end generation.\n"
          ]
        },
        {
          "output_type": "stream",
          "name": "stdout",
          "text": [
            "Translated: input_folder/5solutions/p03754/C/s840949961.c → output_folder/5solutions/p03754/C/s840949961.cpp\n",
            "Translated: input_folder/5solutions/p03754/C/s990423872.c → output_folder/5solutions/p03754/C/s990423872.cpp\n",
            "Translated: input_folder/5solutions/p02017/C/s815272532.c → output_folder/5solutions/p02017/C/s815272532.cpp\n",
            "Translated: input_folder/5solutions/p02017/C/s802235298.c → output_folder/5solutions/p02017/C/s802235298.cpp\n"
          ]
        },
        {
          "output_type": "stream",
          "name": "stderr",
          "text": [
            "Setting `pad_token_id` to `eos_token_id`:2 for open-end generation.\n"
          ]
        },
        {
          "output_type": "stream",
          "name": "stdout",
          "text": [
            "Translated: input_folder/5solutions/p02017/C/s147734778.c → output_folder/5solutions/p02017/C/s147734778.cpp\n",
            "Translated: input_folder/5solutions/p02017/C/s061767720.c → output_folder/5solutions/p02017/C/s061767720.cpp\n",
            "Translated: input_folder/5solutions/p02017/C/s377353952.c → output_folder/5solutions/p02017/C/s377353952.cpp\n",
            "Translated: input_folder/5solutions/p00224/C/s481710719.c → output_folder/5solutions/p00224/C/s481710719.cpp\n"
          ]
        },
        {
          "output_type": "stream",
          "name": "stderr",
          "text": [
            "Setting `pad_token_id` to `eos_token_id`:2 for open-end generation.\n"
          ]
        },
        {
          "output_type": "stream",
          "name": "stdout",
          "text": [
            "Translated: input_folder/5solutions/p00224/C/s311989533.c → output_folder/5solutions/p00224/C/s311989533.cpp\n",
            "Translated: input_folder/5solutions/p00224/C/s761325339.c → output_folder/5solutions/p00224/C/s761325339.cpp\n",
            "Translated: input_folder/5solutions/p00224/C/s540743956.c → output_folder/5solutions/p00224/C/s540743956.cpp\n",
            "Translated: input_folder/5solutions/p03113/C/s257574184.c → output_folder/5solutions/p03113/C/s257574184.cpp\n"
          ]
        },
        {
          "output_type": "stream",
          "name": "stderr",
          "text": [
            "Setting `pad_token_id` to `eos_token_id`:2 for open-end generation.\n"
          ]
        },
        {
          "output_type": "stream",
          "name": "stdout",
          "text": [
            "Translated: input_folder/5solutions/p03113/C/s890684763.c → output_folder/5solutions/p03113/C/s890684763.cpp\n",
            "Translated: input_folder/5solutions/p01118/C/s289748724.c → output_folder/5solutions/p01118/C/s289748724.cpp\n",
            "Translated: input_folder/5solutions/p01118/C/s560710676.c → output_folder/5solutions/p01118/C/s560710676.cpp\n",
            "Translated: input_folder/5solutions/p01118/C/s848481472.c → output_folder/5solutions/p01118/C/s848481472.cpp\n"
          ]
        },
        {
          "output_type": "stream",
          "name": "stderr",
          "text": [
            "Setting `pad_token_id` to `eos_token_id`:2 for open-end generation.\n"
          ]
        },
        {
          "output_type": "stream",
          "name": "stdout",
          "text": [
            "Translated: input_folder/5solutions/p01118/C/s896490920.c → output_folder/5solutions/p01118/C/s896490920.cpp\n",
            "Translated: input_folder/5solutions/p03395/C/s793945473.c → output_folder/5solutions/p03395/C/s793945473.cpp\n",
            "Translated: input_folder/5solutions/p03395/C/s202105003.c → output_folder/5solutions/p03395/C/s202105003.cpp\n",
            "Translated: input_folder/5solutions/p03395/C/s703931418.c → output_folder/5solutions/p03395/C/s703931418.cpp\n"
          ]
        },
        {
          "output_type": "stream",
          "name": "stderr",
          "text": [
            "Setting `pad_token_id` to `eos_token_id`:2 for open-end generation.\n"
          ]
        },
        {
          "output_type": "stream",
          "name": "stdout",
          "text": [
            "Translated: input_folder/5solutions/p03395/C/s365333760.c → output_folder/5solutions/p03395/C/s365333760.cpp\n",
            "Translated: input_folder/5solutions/p03395/C/s545571189.c → output_folder/5solutions/p03395/C/s545571189.cpp\n",
            "Translated: input_folder/5solutions/p00595/C/s947204926.c → output_folder/5solutions/p00595/C/s947204926.cpp\n",
            "Translated: input_folder/5solutions/p00595/C/s838311697.c → output_folder/5solutions/p00595/C/s838311697.cpp\n"
          ]
        },
        {
          "output_type": "stream",
          "name": "stderr",
          "text": [
            "Setting `pad_token_id` to `eos_token_id`:2 for open-end generation.\n"
          ]
        },
        {
          "output_type": "stream",
          "name": "stdout",
          "text": [
            "Translated: input_folder/5solutions/p00595/C/s164135046.c → output_folder/5solutions/p00595/C/s164135046.cpp\n",
            "Translated: input_folder/5solutions/p00595/C/s615084631.c → output_folder/5solutions/p00595/C/s615084631.cpp\n",
            "Translated: input_folder/5solutions/p00595/C/s942526180.c → output_folder/5solutions/p00595/C/s942526180.cpp\n",
            "Translated: input_folder/5solutions/p01105/C/s992013783.c → output_folder/5solutions/p01105/C/s992013783.cpp\n"
          ]
        },
        {
          "output_type": "stream",
          "name": "stderr",
          "text": [
            "Setting `pad_token_id` to `eos_token_id`:2 for open-end generation.\n"
          ]
        },
        {
          "output_type": "stream",
          "name": "stdout",
          "text": [
            "Translated: input_folder/5solutions/p01105/C/s070376109.c → output_folder/5solutions/p01105/C/s070376109.cpp\n",
            "Translated: input_folder/5solutions/p01105/C/s441185833.c → output_folder/5solutions/p01105/C/s441185833.cpp\n",
            "Translated: input_folder/5solutions/p00133/C/s599743519.c → output_folder/5solutions/p00133/C/s599743519.cpp\n",
            "Translated: input_folder/5solutions/p00133/C/s726052892.c → output_folder/5solutions/p00133/C/s726052892.cpp\n"
          ]
        },
        {
          "output_type": "stream",
          "name": "stderr",
          "text": [
            "Setting `pad_token_id` to `eos_token_id`:2 for open-end generation.\n"
          ]
        },
        {
          "output_type": "stream",
          "name": "stdout",
          "text": [
            "Translated: input_folder/5solutions/p00133/C/s437385866.c → output_folder/5solutions/p00133/C/s437385866.cpp\n",
            "Translated: input_folder/5solutions/p00133/C/s011251527.c → output_folder/5solutions/p00133/C/s011251527.cpp\n",
            "Translated: input_folder/5solutions/p00133/C/s347764683.c → output_folder/5solutions/p00133/C/s347764683.cpp\n",
            "Translated: input_folder/5solutions/p02465/C/s859085452.c → output_folder/5solutions/p02465/C/s859085452.cpp\n"
          ]
        },
        {
          "output_type": "stream",
          "name": "stderr",
          "text": [
            "Setting `pad_token_id` to `eos_token_id`:2 for open-end generation.\n"
          ]
        },
        {
          "output_type": "stream",
          "name": "stdout",
          "text": [
            "Translated: input_folder/5solutions/p02465/C/s128410961.c → output_folder/5solutions/p02465/C/s128410961.cpp\n",
            "Translated: input_folder/5solutions/p02465/C/s108677214.c → output_folder/5solutions/p02465/C/s108677214.cpp\n",
            "Translated: input_folder/5solutions/p02465/C/s114230986.c → output_folder/5solutions/p02465/C/s114230986.cpp\n",
            "Translated: input_folder/5solutions/p02465/C/s388453391.c → output_folder/5solutions/p02465/C/s388453391.cpp\n"
          ]
        },
        {
          "output_type": "stream",
          "name": "stderr",
          "text": [
            "Setting `pad_token_id` to `eos_token_id`:2 for open-end generation.\n"
          ]
        },
        {
          "output_type": "stream",
          "name": "stdout",
          "text": [
            "Translated: input_folder/5solutions/p00076/C/s616332125.c → output_folder/5solutions/p00076/C/s616332125.cpp\n",
            "Translated: input_folder/5solutions/p00076/C/s216980218.c → output_folder/5solutions/p00076/C/s216980218.cpp\n",
            "Translated: input_folder/5solutions/p00076/C/s320017447.c → output_folder/5solutions/p00076/C/s320017447.cpp\n",
            "Translated: input_folder/5solutions/p00076/C/s315184846.c → output_folder/5solutions/p00076/C/s315184846.cpp\n"
          ]
        },
        {
          "output_type": "stream",
          "name": "stderr",
          "text": [
            "Setting `pad_token_id` to `eos_token_id`:2 for open-end generation.\n"
          ]
        },
        {
          "output_type": "stream",
          "name": "stdout",
          "text": [
            "Translated: input_folder/5solutions/p00076/C/s065491204.c → output_folder/5solutions/p00076/C/s065491204.cpp\n",
            "Translated: input_folder/5solutions/p03313/C/s569874092.c → output_folder/5solutions/p03313/C/s569874092.cpp\n",
            "Translated: input_folder/5solutions/p03313/C/s127610179.c → output_folder/5solutions/p03313/C/s127610179.cpp\n",
            "Translated: input_folder/5solutions/p03313/C/s003884915.c → output_folder/5solutions/p03313/C/s003884915.cpp\n"
          ]
        },
        {
          "output_type": "stream",
          "name": "stderr",
          "text": [
            "Setting `pad_token_id` to `eos_token_id`:2 for open-end generation.\n"
          ]
        },
        {
          "output_type": "stream",
          "name": "stdout",
          "text": [
            "Translated: input_folder/5solutions/p03313/C/s905906344.c → output_folder/5solutions/p03313/C/s905906344.cpp\n",
            "Translated: input_folder/5solutions/p03313/C/s174960444.c → output_folder/5solutions/p03313/C/s174960444.cpp\n",
            "Translated: input_folder/5solutions/p02402/C/s754576162.c → output_folder/5solutions/p02402/C/s754576162.cpp\n",
            "Translated: input_folder/5solutions/p02402/C/s319814814.c → output_folder/5solutions/p02402/C/s319814814.cpp\n"
          ]
        },
        {
          "output_type": "stream",
          "name": "stderr",
          "text": [
            "Setting `pad_token_id` to `eos_token_id`:2 for open-end generation.\n"
          ]
        },
        {
          "output_type": "stream",
          "name": "stdout",
          "text": [
            "Translated: input_folder/5solutions/p02402/C/s631827008.c → output_folder/5solutions/p02402/C/s631827008.cpp\n",
            "Translated: input_folder/5solutions/p02402/C/s550829985.c → output_folder/5solutions/p02402/C/s550829985.cpp\n",
            "Translated: input_folder/5solutions/p02402/C/s152958922.c → output_folder/5solutions/p02402/C/s152958922.cpp\n",
            "Translated: input_folder/5solutions/p00317/C/s324459900.c → output_folder/5solutions/p00317/C/s324459900.cpp\n"
          ]
        },
        {
          "output_type": "stream",
          "name": "stderr",
          "text": [
            "Setting `pad_token_id` to `eos_token_id`:2 for open-end generation.\n"
          ]
        },
        {
          "output_type": "stream",
          "name": "stdout",
          "text": [
            "Translated: input_folder/5solutions/p00317/C/s993421512.c → output_folder/5solutions/p00317/C/s993421512.cpp\n"
          ]
        }
      ]
    },
    {
      "cell_type": "code",
      "source": [
        "# # 5. Process all .c files - INTIAL\n",
        "# for root, _, files in os.walk('input_folder'):\n",
        "#     for file in files:\n",
        "#         if file.endswith('.c'):\n",
        "#             # Set paths\n",
        "#             in_path = os.path.join(root, file)\n",
        "#             out_path = in_path.replace('input_folder', 'output_folder').replace('.c', '.cpp')\n",
        "#             os.makedirs(os.path.dirname(out_path), exist_ok=True)\n",
        "\n",
        "#             # Translate\n",
        "#             with open(in_path, 'r') as f:\n",
        "#                 c_code = f.read()\n",
        "#             cpp_code = translate(c_code)\n",
        "\n",
        "#             # Save\n",
        "#             with open(out_path, 'w') as f:\n",
        "#                 f.write(cpp_code)\n",
        "#             print(f\"Translated: {in_path} → {out_path}\")"
      ],
      "metadata": {
        "id": "_82o5KownsjU"
      },
      "execution_count": 10,
      "outputs": []
    },
    {
      "cell_type": "code",
      "source": [
        "from google.colab import files as colab_files  # CHANGED: Added alias"
      ],
      "metadata": {
        "id": "--MUtWx879A5"
      },
      "execution_count": 11,
      "outputs": []
    },
    {
      "cell_type": "code",
      "source": [
        "# 6. Compress and download\n",
        "print(\"\\nCreating output ZIP...\")\n",
        "!zip -r output.zip output_folder\n",
        "colab_files.download('output.zip')  # CHANGED: Uses alias\n",
        "print(\"Done! Download should start automatically.\")"
      ],
      "metadata": {
        "colab": {
          "base_uri": "https://localhost:8080/",
          "height": 1000
        },
        "id": "hGn0Wbvo4gFL",
        "outputId": "6230e26c-5a17-4028-a33b-2d2f2d77e62f"
      },
      "execution_count": 12,
      "outputs": [
        {
          "output_type": "stream",
          "name": "stdout",
          "text": [
            "\n",
            "Creating output ZIP...\n",
            "  adding: output_folder/ (stored 0%)\n",
            "  adding: output_folder/5solutions/ (stored 0%)\n",
            "  adding: output_folder/5solutions/p03322/ (stored 0%)\n",
            "  adding: output_folder/5solutions/p03322/C/ (stored 0%)\n",
            "  adding: output_folder/5solutions/p03322/C/s551996426.cpp (deflated 52%)\n",
            "  adding: output_folder/5solutions/p00482/ (stored 0%)\n",
            "  adding: output_folder/5solutions/p00482/C/ (stored 0%)\n",
            "  adding: output_folder/5solutions/p00482/C/s592579736.cpp (deflated 64%)\n",
            "  adding: output_folder/5solutions/p00482/C/s141106294.cpp (deflated 50%)\n",
            "  adding: output_folder/5solutions/p00482/C/s868027075.cpp (deflated 61%)\n",
            "  adding: output_folder/5solutions/p00482/C/s679164229.cpp (deflated 66%)\n",
            "  adding: output_folder/5solutions/p00482/C/s402575271.cpp (deflated 69%)\n",
            "  adding: output_folder/5solutions/p02610/ (stored 0%)\n",
            "  adding: output_folder/5solutions/p02610/C/ (stored 0%)\n",
            "  adding: output_folder/5solutions/p02610/C/s250458267.cpp (deflated 56%)\n",
            "  adding: output_folder/5solutions/p02610/C/s902026124.cpp (deflated 44%)\n",
            "  adding: output_folder/5solutions/p02610/C/s487455940.cpp (deflated 68%)\n",
            "  adding: output_folder/5solutions/p02610/C/s677412477.cpp (deflated 49%)\n",
            "  adding: output_folder/5solutions/p02610/C/s127782388.cpp (deflated 61%)\n",
            "  adding: output_folder/5solutions/p01601/ (stored 0%)\n",
            "  adding: output_folder/5solutions/p01601/C/ (stored 0%)\n",
            "  adding: output_folder/5solutions/p01601/C/s001049925.cpp (deflated 54%)\n",
            "  adding: output_folder/5solutions/p01601/C/s566357598.cpp (deflated 57%)\n",
            "  adding: output_folder/5solutions/p01601/C/s007769618.cpp (deflated 63%)\n",
            "  adding: output_folder/5solutions/p01601/C/s029716452.cpp (deflated 41%)\n",
            "  adding: output_folder/5solutions/p01601/C/s775589530.cpp (deflated 43%)\n",
            "  adding: output_folder/5solutions/p00536/ (stored 0%)\n",
            "  adding: output_folder/5solutions/p00536/C/ (stored 0%)\n",
            "  adding: output_folder/5solutions/p00536/C/s456495707.cpp (deflated 49%)\n",
            "  adding: output_folder/5solutions/p00536/C/s814838074.cpp (deflated 43%)\n",
            "  adding: output_folder/5solutions/p00034/ (stored 0%)\n",
            "  adding: output_folder/5solutions/p00034/C/ (stored 0%)\n",
            "  adding: output_folder/5solutions/p00034/C/s664006655.cpp (deflated 38%)\n",
            "  adding: output_folder/5solutions/p00034/C/s084585556.cpp (deflated 58%)\n",
            "  adding: output_folder/5solutions/p00034/C/s512096282.cpp (deflated 59%)\n",
            "  adding: output_folder/5solutions/p00034/C/s105671040.cpp (deflated 47%)\n",
            "  adding: output_folder/5solutions/p00034/C/s930540190.cpp (deflated 43%)\n",
            "  adding: output_folder/5solutions/p03820/ (stored 0%)\n",
            "  adding: output_folder/5solutions/p03820/C/ (stored 0%)\n",
            "  adding: output_folder/5solutions/p03820/C/s580592882.cpp (deflated 68%)\n",
            "  adding: output_folder/5solutions/p03820/C/s279582430.cpp (deflated 46%)\n",
            "  adding: output_folder/5solutions/p03820/C/s438471047.cpp (deflated 47%)\n",
            "  adding: output_folder/5solutions/p00160/ (stored 0%)\n",
            "  adding: output_folder/5solutions/p00160/C/ (stored 0%)\n",
            "  adding: output_folder/5solutions/p00160/C/s549682294.cpp (deflated 58%)\n",
            "  adding: output_folder/5solutions/p00160/C/s490714288.cpp (deflated 56%)\n",
            "  adding: output_folder/5solutions/p00160/C/s316066939.cpp (deflated 70%)\n",
            "  adding: output_folder/5solutions/p00160/C/s664610757.cpp (deflated 51%)\n",
            "  adding: output_folder/5solutions/p00160/C/s152977601.cpp (deflated 58%)\n",
            "  adding: output_folder/5solutions/p02176/ (stored 0%)\n",
            "  adding: output_folder/5solutions/p02176/C/ (stored 0%)\n",
            "  adding: output_folder/5solutions/p02176/C/s419800694.cpp (deflated 66%)\n",
            "  adding: output_folder/5solutions/p02176/C/s274098483.cpp (deflated 57%)\n",
            "  adding: output_folder/5solutions/p02176/C/s615454780.cpp (deflated 59%)\n",
            "  adding: output_folder/5solutions/p02176/C/s951037972.cpp (deflated 58%)\n",
            "  adding: output_folder/5solutions/p02176/C/s318663263.cpp (deflated 66%)\n",
            "  adding: output_folder/5solutions/p00129/ (stored 0%)\n",
            "  adding: output_folder/5solutions/p00129/C/ (stored 0%)\n",
            "  adding: output_folder/5solutions/p00129/C/s748830216.cpp (deflated 64%)\n",
            "  adding: output_folder/5solutions/p00129/C/s185791597.cpp (deflated 60%)\n",
            "  adding: output_folder/5solutions/p00129/C/s297379305.cpp (deflated 46%)\n",
            "  adding: output_folder/5solutions/p00129/C/s889296996.cpp (deflated 63%)\n",
            "  adding: output_folder/5solutions/p00129/C/s174215963.cpp (deflated 62%)\n",
            "  adding: output_folder/5solutions/p00947/ (stored 0%)\n",
            "  adding: output_folder/5solutions/p00947/C/ (stored 0%)\n",
            "  adding: output_folder/5solutions/p00947/C/s185557298.cpp (deflated 51%)\n",
            "  adding: output_folder/5solutions/p00947/C/s771150380.cpp (deflated 57%)\n",
            "  adding: output_folder/5solutions/p00947/C/s109795938.cpp (deflated 63%)\n",
            "  adding: output_folder/5solutions/p00947/C/s268837874.cpp (deflated 71%)\n",
            "  adding: output_folder/5solutions/p00947/C/s406772121.cpp (deflated 56%)\n",
            "  adding: output_folder/5solutions/p02022/ (stored 0%)\n",
            "  adding: output_folder/5solutions/p02022/C/ (stored 0%)\n",
            "  adding: output_folder/5solutions/p02022/C/s231139979.cpp (deflated 59%)\n",
            "  adding: output_folder/5solutions/p02022/C/s983907553.cpp (deflated 40%)\n",
            "  adding: output_folder/5solutions/p02022/C/s399990587.cpp (deflated 43%)\n",
            "  adding: output_folder/5solutions/p00080/ (stored 0%)\n",
            "  adding: output_folder/5solutions/p00080/C/ (stored 0%)\n",
            "  adding: output_folder/5solutions/p00080/C/s544829227.cpp (deflated 44%)\n",
            "  adding: output_folder/5solutions/p00080/C/s910422529.cpp (deflated 39%)\n",
            "  adding: output_folder/5solutions/p00080/C/s108338605.cpp (deflated 27%)\n",
            "  adding: output_folder/5solutions/p00080/C/s380200044.cpp (deflated 43%)\n",
            "  adding: output_folder/5solutions/p00080/C/s727894606.cpp (deflated 45%)\n",
            "  adding: output_folder/5solutions/p03009/ (stored 0%)\n",
            "  adding: output_folder/5solutions/p03009/C/ (stored 0%)\n",
            "  adding: output_folder/5solutions/p03009/C/s530069808.cpp (deflated 56%)\n",
            "  adding: output_folder/5solutions/p03009/C/s184050686.cpp (deflated 57%)\n",
            "  adding: output_folder/5solutions/p03009/C/s109567358.cpp (deflated 57%)\n",
            "  adding: output_folder/5solutions/p02947/ (stored 0%)\n",
            "  adding: output_folder/5solutions/p02947/C/ (stored 0%)\n",
            "  adding: output_folder/5solutions/p02947/C/s716462074.cpp (deflated 48%)\n",
            "  adding: output_folder/5solutions/p02947/C/s363272349.cpp (deflated 62%)\n",
            "  adding: output_folder/5solutions/p02947/C/s321353050.cpp (deflated 48%)\n",
            "  adding: output_folder/5solutions/p02947/C/s527663197.cpp (deflated 53%)\n",
            "  adding: output_folder/5solutions/p02947/C/s375658974.cpp (deflated 61%)\n",
            "  adding: output_folder/5solutions/p01407/ (stored 0%)\n",
            "  adding: output_folder/5solutions/p01407/C/ (stored 0%)\n",
            "  adding: output_folder/5solutions/p01407/C/s572419465.cpp (deflated 47%)\n",
            "  adding: output_folder/5solutions/p01407/C/s101948412.cpp (deflated 47%)\n",
            "  adding: output_folder/5solutions/p01407/C/s072172154.cpp (deflated 46%)\n",
            "  adding: output_folder/5solutions/p03686/ (stored 0%)\n",
            "  adding: output_folder/5solutions/p03686/C/ (stored 0%)\n",
            "  adding: output_folder/5solutions/p03686/C/s761559470.cpp (deflated 50%)\n",
            "  adding: output_folder/5solutions/p01236/ (stored 0%)\n",
            "  adding: output_folder/5solutions/p01236/C/ (stored 0%)\n",
            "  adding: output_folder/5solutions/p01236/C/s603574654.cpp (deflated 59%)\n",
            "  adding: output_folder/5solutions/p02240/ (stored 0%)\n",
            "  adding: output_folder/5solutions/p02240/C/ (stored 0%)\n",
            "  adding: output_folder/5solutions/p02240/C/s269785698.cpp (deflated 56%)\n",
            "  adding: output_folder/5solutions/p02240/C/s222948256.cpp (deflated 55%)\n",
            "  adding: output_folder/5solutions/p02240/C/s285649987.cpp (deflated 64%)\n",
            "  adding: output_folder/5solutions/p02240/C/s436932633.cpp (deflated 67%)\n",
            "  adding: output_folder/5solutions/p02240/C/s053206267.cpp (deflated 52%)\n",
            "  adding: output_folder/5solutions/p02833/ (stored 0%)\n",
            "  adding: output_folder/5solutions/p02833/C/ (stored 0%)\n",
            "  adding: output_folder/5solutions/p02833/C/s344162803.cpp (deflated 34%)\n",
            "  adding: output_folder/5solutions/p02833/C/s640721453.cpp (deflated 42%)\n",
            "  adding: output_folder/5solutions/p02833/C/s460390188.cpp (deflated 29%)\n",
            "  adding: output_folder/5solutions/p02833/C/s060398469.cpp (deflated 49%)\n",
            "  adding: output_folder/5solutions/p02833/C/s547888641.cpp (deflated 57%)\n",
            "  adding: output_folder/5solutions/p00659/ (stored 0%)\n",
            "  adding: output_folder/5solutions/p00659/C/ (stored 0%)\n",
            "  adding: output_folder/5solutions/p00659/C/s566995415.cpp (deflated 66%)\n",
            "  adding: output_folder/5solutions/p00659/C/s245833051.cpp (deflated 53%)\n",
            "  adding: output_folder/5solutions/p00659/C/s325088321.cpp (deflated 49%)\n",
            "  adding: output_folder/5solutions/p00659/C/s013851689.cpp (deflated 58%)\n",
            "  adding: output_folder/5solutions/p00659/C/s938853803.cpp (deflated 62%)\n",
            "  adding: output_folder/5solutions/p01770/ (stored 0%)\n",
            "  adding: output_folder/5solutions/p01770/C/ (stored 0%)\n",
            "  adding: output_folder/5solutions/p01770/C/s907654460.cpp (deflated 40%)\n",
            "  adding: output_folder/5solutions/p02257/ (stored 0%)\n",
            "  adding: output_folder/5solutions/p02257/C/ (stored 0%)\n",
            "  adding: output_folder/5solutions/p02257/C/s811563010.cpp (deflated 53%)\n",
            "  adding: output_folder/5solutions/p02257/C/s100455752.cpp (deflated 49%)\n",
            "  adding: output_folder/5solutions/p02257/C/s429473385.cpp (deflated 42%)\n",
            "  adding: output_folder/5solutions/p02257/C/s209769143.cpp (deflated 45%)\n",
            "  adding: output_folder/5solutions/p02257/C/s204016000.cpp (deflated 56%)\n",
            "  adding: output_folder/5solutions/p01376/ (stored 0%)\n",
            "  adding: output_folder/5solutions/p01376/C/ (stored 0%)\n",
            "  adding: output_folder/5solutions/p01376/C/s120501869.cpp (deflated 49%)\n",
            "  adding: output_folder/5solutions/p01376/C/s643209729.cpp (deflated 42%)\n",
            "  adding: output_folder/5solutions/p01376/C/s797980046.cpp (deflated 37%)\n",
            "  adding: output_folder/5solutions/p01376/C/s076152972.cpp (deflated 62%)\n",
            "  adding: output_folder/5solutions/p01376/C/s336642537.cpp (deflated 48%)\n",
            "  adding: output_folder/5solutions/p00288/ (stored 0%)\n",
            "  adding: output_folder/5solutions/p00288/C/ (stored 0%)\n",
            "  adding: output_folder/5solutions/p00288/C/s017316805.cpp (deflated 61%)\n",
            "  adding: output_folder/5solutions/p00288/C/s927961714.cpp (deflated 62%)\n",
            "  adding: output_folder/5solutions/p00288/C/s012658010.cpp (deflated 57%)\n",
            "  adding: output_folder/5solutions/p00363/ (stored 0%)\n",
            "  adding: output_folder/5solutions/p00363/C/ (stored 0%)\n",
            "  adding: output_folder/5solutions/p00363/C/s542185265.cpp (deflated 60%)\n",
            "  adding: output_folder/5solutions/p00363/C/s305418206.cpp (deflated 66%)\n",
            "  adding: output_folder/5solutions/p00363/C/s572677322.cpp (deflated 56%)\n",
            "  adding: output_folder/5solutions/p00363/C/s599692347.cpp (deflated 67%)\n",
            "  adding: output_folder/5solutions/p00363/C/s661569977.cpp (deflated 51%)\n",
            "  adding: output_folder/5solutions/p02972/ (stored 0%)\n",
            "  adding: output_folder/5solutions/p02972/C/ (stored 0%)\n",
            "  adding: output_folder/5solutions/p02972/C/s416857283.cpp (deflated 63%)\n",
            "  adding: output_folder/5solutions/p02972/C/s326358880.cpp (deflated 57%)\n",
            "  adding: output_folder/5solutions/p02972/C/s507076278.cpp (deflated 53%)\n",
            "  adding: output_folder/5solutions/p02972/C/s060393584.cpp (deflated 57%)\n",
            "  adding: output_folder/5solutions/p02972/C/s934862750.cpp (deflated 59%)\n",
            "  adding: output_folder/5solutions/p01766/ (stored 0%)\n",
            "  adding: output_folder/5solutions/p01766/C/ (stored 0%)\n",
            "  adding: output_folder/5solutions/p01766/C/s035320780.cpp (deflated 44%)\n",
            "  adding: output_folder/5solutions/p01766/C/s231159867.cpp (deflated 52%)\n",
            "  adding: output_folder/5solutions/p01766/C/s157125014.cpp (deflated 33%)\n",
            "  adding: output_folder/5solutions/p01766/C/s587869414.cpp (deflated 62%)\n",
            "  adding: output_folder/5solutions/p01766/C/s209306524.cpp (deflated 47%)\n",
            "  adding: output_folder/5solutions/p00719/ (stored 0%)\n",
            "  adding: output_folder/5solutions/p00719/C/ (stored 0%)\n",
            "  adding: output_folder/5solutions/p00719/C/s323355147.cpp (deflated 62%)\n",
            "  adding: output_folder/5solutions/p00719/C/s033445864.cpp (deflated 55%)\n",
            "  adding: output_folder/5solutions/p00719/C/s180619463.cpp (deflated 59%)\n",
            "  adding: output_folder/5solutions/p00719/C/s564078921.cpp (deflated 66%)\n",
            "  adding: output_folder/5solutions/p00719/C/s637683235.cpp (deflated 60%)\n",
            "  adding: output_folder/5solutions/p01909/ (stored 0%)\n",
            "  adding: output_folder/5solutions/p01909/C/ (stored 0%)\n",
            "  adding: output_folder/5solutions/p01909/C/s826008096.cpp (deflated 60%)\n",
            "  adding: output_folder/5solutions/p01909/C/s265213589.cpp (deflated 50%)\n",
            "  adding: output_folder/5solutions/p01909/C/s007439732.cpp (deflated 46%)\n",
            "  adding: output_folder/5solutions/p01353/ (stored 0%)\n",
            "  adding: output_folder/5solutions/p01353/C/ (stored 0%)\n",
            "  adding: output_folder/5solutions/p01353/C/s907953827.cpp (deflated 46%)\n",
            "  adding: output_folder/5solutions/p01353/C/s505187468.cpp (deflated 49%)\n",
            "  adding: output_folder/5solutions/p00548/ (stored 0%)\n",
            "  adding: output_folder/5solutions/p00548/C/ (stored 0%)\n",
            "  adding: output_folder/5solutions/p00548/C/s263160790.cpp (deflated 46%)\n",
            "  adding: output_folder/5solutions/p00548/C/s114847116.cpp (deflated 49%)\n",
            "  adding: output_folder/5solutions/p00548/C/s835934524.cpp (deflated 51%)\n",
            "  adding: output_folder/5solutions/p02536/ (stored 0%)\n",
            "  adding: output_folder/5solutions/p02536/C/ (stored 0%)\n",
            "  adding: output_folder/5solutions/p02536/C/s769234720.cpp (deflated 53%)\n",
            "  adding: output_folder/5solutions/p02536/C/s222469364.cpp (deflated 49%)\n",
            "  adding: output_folder/5solutions/p02536/C/s722688722.cpp (deflated 72%)\n",
            "  adding: output_folder/5solutions/p02536/C/s169473398.cpp (deflated 48%)\n",
            "  adding: output_folder/5solutions/p02536/C/s867548078.cpp (deflated 48%)\n",
            "  adding: output_folder/5solutions/p02065/ (stored 0%)\n",
            "  adding: output_folder/5solutions/p02065/C/ (stored 0%)\n",
            "  adding: output_folder/5solutions/p02065/C/s247922627.cpp (deflated 48%)\n",
            "  adding: output_folder/5solutions/p02623/ (stored 0%)\n",
            "  adding: output_folder/5solutions/p02623/C/ (stored 0%)\n",
            "  adding: output_folder/5solutions/p02623/C/s138533011.cpp (deflated 34%)\n",
            "  adding: output_folder/5solutions/p02623/C/s476667821.cpp (deflated 60%)\n",
            "  adding: output_folder/5solutions/p02623/C/s094107533.cpp (deflated 61%)\n",
            "  adding: output_folder/5solutions/p02623/C/s437399126.cpp (deflated 52%)\n",
            "  adding: output_folder/5solutions/p02623/C/s920746450.cpp (deflated 59%)\n",
            "  adding: output_folder/5solutions/p00136/ (stored 0%)\n",
            "  adding: output_folder/5solutions/p00136/C/ (stored 0%)\n",
            "  adding: output_folder/5solutions/p00136/C/s125609839.cpp (deflated 63%)\n",
            "  adding: output_folder/5solutions/p00136/C/s398366511.cpp (deflated 59%)\n",
            "  adding: output_folder/5solutions/p00136/C/s673668287.cpp (deflated 59%)\n",
            "  adding: output_folder/5solutions/p00136/C/s647331243.cpp (deflated 68%)\n",
            "  adding: output_folder/5solutions/p00136/C/s156618637.cpp (deflated 62%)\n",
            "  adding: output_folder/5solutions/p01256/ (stored 0%)\n",
            "  adding: output_folder/5solutions/p01256/C/ (stored 0%)\n",
            "  adding: output_folder/5solutions/p01256/C/s817531765.cpp (deflated 63%)\n",
            "  adding: output_folder/5solutions/p03384/ (stored 0%)\n",
            "  adding: output_folder/5solutions/p03384/C/ (stored 0%)\n",
            "  adding: output_folder/5solutions/p03384/C/s593320533.cpp (deflated 37%)\n",
            "  adding: output_folder/5solutions/p03384/C/s861010910.cpp (deflated 71%)\n",
            "  adding: output_folder/5solutions/p03384/C/s825222702.cpp (deflated 55%)\n",
            "  adding: output_folder/5solutions/p03384/C/s423601971.cpp (deflated 56%)\n",
            "  adding: output_folder/5solutions/p03384/C/s176197699.cpp (deflated 30%)\n",
            "  adding: output_folder/5solutions/p00423/ (stored 0%)\n",
            "  adding: output_folder/5solutions/p00423/C/ (stored 0%)\n",
            "  adding: output_folder/5solutions/p00423/C/s078442975.cpp (deflated 55%)\n",
            "  adding: output_folder/5solutions/p00423/C/s633673568.cpp (deflated 65%)\n",
            "  adding: output_folder/5solutions/p00423/C/s848514225.cpp (deflated 61%)\n",
            "  adding: output_folder/5solutions/p00423/C/s090099455.cpp (deflated 49%)\n",
            "  adding: output_folder/5solutions/p00423/C/s444360457.cpp (deflated 42%)\n",
            "  adding: output_folder/5solutions/p02906/ (stored 0%)\n",
            "  adding: output_folder/5solutions/p02906/C/ (stored 0%)\n",
            "  adding: output_folder/5solutions/p02906/C/s588629806.cpp (deflated 51%)\n",
            "  adding: output_folder/5solutions/p02906/C/s990472062.cpp (deflated 68%)\n",
            "  adding: output_folder/5solutions/p02987/ (stored 0%)\n",
            "  adding: output_folder/5solutions/p02987/C/ (stored 0%)\n",
            "  adding: output_folder/5solutions/p02987/C/s618492331.cpp (deflated 57%)\n",
            "  adding: output_folder/5solutions/p02987/C/s003842476.cpp (deflated 50%)\n",
            "  adding: output_folder/5solutions/p02987/C/s836760553.cpp (deflated 47%)\n",
            "  adding: output_folder/5solutions/p02987/C/s808133597.cpp (deflated 45%)\n",
            "  adding: output_folder/5solutions/p02987/C/s534203644.cpp (deflated 64%)\n",
            "  adding: output_folder/5solutions/p03293/ (stored 0%)\n",
            "  adding: output_folder/5solutions/p03293/C/ (stored 0%)\n",
            "  adding: output_folder/5solutions/p03293/C/s330380538.cpp (deflated 37%)\n",
            "  adding: output_folder/5solutions/p03293/C/s726386272.cpp (deflated 41%)\n",
            "  adding: output_folder/5solutions/p03293/C/s679333926.cpp (deflated 49%)\n",
            "  adding: output_folder/5solutions/p03293/C/s324541045.cpp (deflated 54%)\n",
            "  adding: output_folder/5solutions/p03293/C/s818643674.cpp (deflated 55%)\n",
            "  adding: output_folder/5solutions/p03836/ (stored 0%)\n",
            "  adding: output_folder/5solutions/p03836/C/ (stored 0%)\n",
            "  adding: output_folder/5solutions/p03836/C/s787687554.cpp (deflated 69%)\n",
            "  adding: output_folder/5solutions/p03836/C/s314245189.cpp (deflated 62%)\n",
            "  adding: output_folder/5solutions/p03836/C/s848343528.cpp (deflated 61%)\n",
            "  adding: output_folder/5solutions/p03836/C/s701586548.cpp (deflated 59%)\n",
            "  adding: output_folder/5solutions/p03836/C/s636125387.cpp (deflated 48%)\n",
            "  adding: output_folder/5solutions/p00379/ (stored 0%)\n",
            "  adding: output_folder/5solutions/p00379/C/ (stored 0%)\n",
            "  adding: output_folder/5solutions/p00379/C/s246487450.cpp (deflated 52%)\n",
            "  adding: output_folder/5solutions/p00379/C/s063223882.cpp (deflated 46%)\n",
            "  adding: output_folder/5solutions/p00379/C/s021676712.cpp (deflated 34%)\n",
            "  adding: output_folder/5solutions/p00379/C/s073161129.cpp (deflated 44%)\n",
            "  adding: output_folder/5solutions/p00379/C/s716893820.cpp (deflated 54%)\n",
            "  adding: output_folder/5solutions/p01075/ (stored 0%)\n",
            "  adding: output_folder/5solutions/p01075/C/ (stored 0%)\n",
            "  adding: output_folder/5solutions/p01075/C/s406935172.cpp (deflated 49%)\n",
            "  adding: output_folder/5solutions/p01075/C/s709994169.cpp (deflated 52%)\n",
            "  adding: output_folder/5solutions/p01075/C/s763432701.cpp (deflated 52%)\n",
            "  adding: output_folder/5solutions/p01075/C/s284902435.cpp (deflated 51%)\n",
            "  adding: output_folder/5solutions/p01075/C/s219766004.cpp (deflated 51%)\n",
            "  adding: output_folder/5solutions/p00333/ (stored 0%)\n",
            "  adding: output_folder/5solutions/p00333/C/ (stored 0%)\n",
            "  adding: output_folder/5solutions/p00333/C/s658225897.cpp (deflated 30%)\n",
            "  adding: output_folder/5solutions/p00333/C/s774490058.cpp (deflated 34%)\n",
            "  adding: output_folder/5solutions/p00333/C/s351017759.cpp (deflated 41%)\n",
            "  adding: output_folder/5solutions/p00333/C/s483252224.cpp (deflated 42%)\n",
            "  adding: output_folder/5solutions/p00333/C/s902354004.cpp (deflated 34%)\n",
            "  adding: output_folder/5solutions/p02534/ (stored 0%)\n",
            "  adding: output_folder/5solutions/p02534/C/ (stored 0%)\n",
            "  adding: output_folder/5solutions/p02534/C/s357747283.cpp (deflated 33%)\n",
            "  adding: output_folder/5solutions/p02534/C/s199606881.cpp (deflated 26%)\n",
            "  adding: output_folder/5solutions/p02534/C/s356858828.cpp (deflated 28%)\n",
            "  adding: output_folder/5solutions/p02534/C/s014402147.cpp (deflated 35%)\n",
            "  adding: output_folder/5solutions/p02534/C/s395176212.cpp (deflated 37%)\n",
            "  adding: output_folder/5solutions/p01201/ (stored 0%)\n",
            "  adding: output_folder/5solutions/p01201/C/ (stored 0%)\n",
            "  adding: output_folder/5solutions/p01201/C/s967715312.cpp (deflated 46%)\n",
            "  adding: output_folder/5solutions/p01201/C/s474867793.cpp (deflated 74%)\n",
            "  adding: output_folder/5solutions/p01201/C/s028503480.cpp (deflated 46%)\n",
            "  adding: output_folder/5solutions/p01418/ (stored 0%)\n",
            "  adding: output_folder/5solutions/p01418/C/ (stored 0%)\n",
            "  adding: output_folder/5solutions/p01418/C/s212806323.cpp (deflated 55%)\n",
            "  adding: output_folder/5solutions/p01418/C/s859067641.cpp (deflated 42%)\n",
            "  adding: output_folder/5solutions/p01418/C/s907726293.cpp (deflated 48%)\n",
            "  adding: output_folder/5solutions/p01418/C/s229815694.cpp (deflated 50%)\n",
            "  adding: output_folder/5solutions/p02549/ (stored 0%)\n",
            "  adding: output_folder/5solutions/p02549/C/ (stored 0%)\n",
            "  adding: output_folder/5solutions/p02549/C/s232860185.cpp (deflated 72%)\n",
            "  adding: output_folder/5solutions/p02549/C/s613603393.cpp (deflated 46%)\n",
            "  adding: output_folder/5solutions/p02549/C/s054857127.cpp (deflated 72%)\n",
            "  adding: output_folder/5solutions/p02549/C/s131892344.cpp (deflated 43%)\n",
            "  adding: output_folder/5solutions/p02549/C/s529892128.cpp (deflated 50%)\n",
            "  adding: output_folder/5solutions/p03765/ (stored 0%)\n",
            "  adding: output_folder/5solutions/p03765/C/ (stored 0%)\n",
            "  adding: output_folder/5solutions/p03765/C/s661956486.cpp (deflated 54%)\n",
            "  adding: output_folder/5solutions/p03765/C/s584821561.cpp (deflated 48%)\n",
            "  adding: output_folder/5solutions/p03765/C/s130075400.cpp (deflated 52%)\n",
            "  adding: output_folder/5solutions/p03765/C/s704863116.cpp (deflated 34%)\n",
            "  adding: output_folder/5solutions/p03765/C/s463238753.cpp (deflated 68%)\n",
            "  adding: output_folder/5solutions/p01368/ (stored 0%)\n",
            "  adding: output_folder/5solutions/p01368/C/ (stored 0%)\n",
            "  adding: output_folder/5solutions/p01368/C/s235718626.cpp (deflated 48%)\n",
            "  adding: output_folder/5solutions/p01368/C/s589410552.cpp (deflated 63%)\n",
            "  adding: output_folder/5solutions/p01368/C/s710482846.cpp (deflated 57%)\n",
            "  adding: output_folder/5solutions/p01368/C/s678433337.cpp (deflated 55%)\n",
            "  adding: output_folder/5solutions/p01368/C/s479585832.cpp (deflated 58%)\n",
            "  adding: output_folder/5solutions/p00465/ (stored 0%)\n",
            "  adding: output_folder/5solutions/p00465/C/ (stored 0%)\n",
            "  adding: output_folder/5solutions/p00465/C/s940170526.cpp (deflated 51%)\n",
            "  adding: output_folder/5solutions/p00465/C/s032767320.cpp (deflated 51%)\n",
            "  adding: output_folder/5solutions/p00465/C/s979916124.cpp (deflated 63%)\n",
            "  adding: output_folder/5solutions/p03921/ (stored 0%)\n",
            "  adding: output_folder/5solutions/p03921/C/ (stored 0%)\n",
            "  adding: output_folder/5solutions/p03921/C/s820379417.cpp (deflated 68%)\n",
            "  adding: output_folder/5solutions/p03921/C/s108174739.cpp (deflated 43%)\n",
            "  adding: output_folder/5solutions/p03921/C/s175362149.cpp (deflated 47%)\n",
            "  adding: output_folder/5solutions/p03921/C/s508974433.cpp (deflated 68%)\n",
            "  adding: output_folder/5solutions/p03921/C/s830852069.cpp (deflated 55%)\n",
            "  adding: output_folder/5solutions/p03184/ (stored 0%)\n",
            "  adding: output_folder/5solutions/p03184/C/ (stored 0%)\n",
            "  adding: output_folder/5solutions/p03184/C/s590372406.cpp (deflated 38%)\n",
            "  adding: output_folder/5solutions/p03184/C/s154626700.cpp (deflated 54%)\n",
            "  adding: output_folder/5solutions/p03184/C/s467767380.cpp (deflated 51%)\n",
            "  adding: output_folder/5solutions/p03184/C/s718638166.cpp (deflated 53%)\n",
            "  adding: output_folder/5solutions/p03184/C/s977516499.cpp (deflated 43%)\n",
            "  adding: output_folder/5solutions/p03378/ (stored 0%)\n",
            "  adding: output_folder/5solutions/p03378/C/ (stored 0%)\n",
            "  adding: output_folder/5solutions/p03378/C/s557045235.cpp (deflated 55%)\n",
            "  adding: output_folder/5solutions/p03378/C/s947789026.cpp (deflated 56%)\n",
            "  adding: output_folder/5solutions/p03378/C/s368964614.cpp (deflated 44%)\n",
            "  adding: output_folder/5solutions/p03378/C/s555914955.cpp (deflated 48%)\n",
            "  adding: output_folder/5solutions/p03378/C/s861759648.cpp (deflated 43%)\n",
            "  adding: output_folder/5solutions/p01147/ (stored 0%)\n",
            "  adding: output_folder/5solutions/p01147/C/ (stored 0%)\n",
            "  adding: output_folder/5solutions/p01147/C/s258229432.cpp (deflated 48%)\n",
            "  adding: output_folder/5solutions/p01147/C/s590447842.cpp (deflated 64%)\n",
            "  adding: output_folder/5solutions/p00189/ (stored 0%)\n",
            "  adding: output_folder/5solutions/p00189/C/ (stored 0%)\n",
            "  adding: output_folder/5solutions/p00189/C/s485779555.cpp (deflated 61%)\n",
            "  adding: output_folder/5solutions/p00189/C/s320091762.cpp (deflated 61%)\n",
            "  adding: output_folder/5solutions/p00189/C/s938571066.cpp (deflated 63%)\n",
            "  adding: output_folder/5solutions/p00189/C/s260998870.cpp (deflated 53%)\n",
            "  adding: output_folder/5solutions/p00189/C/s014881842.cpp (deflated 57%)\n",
            "  adding: output_folder/5solutions/p01600/ (stored 0%)\n",
            "  adding: output_folder/5solutions/p01600/C/ (stored 0%)\n",
            "  adding: output_folder/5solutions/p01600/C/s019997628.cpp (deflated 61%)\n",
            "  adding: output_folder/5solutions/p01600/C/s144711670.cpp (deflated 47%)\n",
            "  adding: output_folder/5solutions/p03482/ (stored 0%)\n",
            "  adding: output_folder/5solutions/p03482/C/ (stored 0%)\n",
            "  adding: output_folder/5solutions/p03482/C/s179954434.cpp (deflated 53%)\n",
            "  adding: output_folder/5solutions/p03482/C/s057994815.cpp (deflated 64%)\n",
            "  adding: output_folder/5solutions/p03482/C/s709144779.cpp (deflated 67%)\n",
            "  adding: output_folder/5solutions/p03482/C/s186235299.cpp (deflated 69%)\n",
            "  adding: output_folder/5solutions/p03482/C/s217392077.cpp (deflated 42%)\n",
            "  adding: output_folder/5solutions/p03284/ (stored 0%)\n",
            "  adding: output_folder/5solutions/p03284/C/ (stored 0%)\n",
            "  adding: output_folder/5solutions/p03284/C/s672020025.cpp (deflated 37%)\n",
            "  adding: output_folder/5solutions/p03284/C/s829642577.cpp (deflated 35%)\n",
            "  adding: output_folder/5solutions/p03284/C/s324908458.cpp (deflated 45%)\n",
            "  adding: output_folder/5solutions/p03284/C/s771791992.cpp (deflated 36%)\n",
            "  adding: output_folder/5solutions/p03284/C/s915404534.cpp (deflated 46%)\n",
            "  adding: output_folder/5solutions/p03754/ (stored 0%)\n",
            "  adding: output_folder/5solutions/p03754/C/ (stored 0%)\n",
            "  adding: output_folder/5solutions/p03754/C/s840949961.cpp (deflated 52%)\n",
            "  adding: output_folder/5solutions/p03754/C/s159297755.cpp (deflated 69%)\n",
            "  adding: output_folder/5solutions/p03754/C/s990423872.cpp (deflated 59%)\n",
            "  adding: output_folder/5solutions/p02017/ (stored 0%)\n",
            "  adding: output_folder/5solutions/p02017/C/ (stored 0%)\n",
            "  adding: output_folder/5solutions/p02017/C/s377353952.cpp (deflated 42%)\n",
            "  adding: output_folder/5solutions/p02017/C/s815272532.cpp (deflated 43%)\n",
            "  adding: output_folder/5solutions/p02017/C/s147734778.cpp (deflated 21%)\n",
            "  adding: output_folder/5solutions/p02017/C/s802235298.cpp (deflated 32%)\n",
            "  adding: output_folder/5solutions/p02017/C/s061767720.cpp (deflated 38%)\n",
            "  adding: output_folder/5solutions/p00224/ (stored 0%)\n",
            "  adding: output_folder/5solutions/p00224/C/ (stored 0%)\n",
            "  adding: output_folder/5solutions/p00224/C/s311989533.cpp (deflated 55%)\n",
            "  adding: output_folder/5solutions/p00224/C/s481710719.cpp (deflated 51%)\n",
            "  adding: output_folder/5solutions/p00224/C/s761325339.cpp (deflated 50%)\n",
            "  adding: output_folder/5solutions/p00224/C/s540743956.cpp (deflated 52%)\n",
            "  adding: output_folder/5solutions/p03113/ (stored 0%)\n",
            "  adding: output_folder/5solutions/p03113/C/ (stored 0%)\n",
            "  adding: output_folder/5solutions/p03113/C/s257574184.cpp (deflated 54%)\n",
            "  adding: output_folder/5solutions/p03113/C/s890684763.cpp (deflated 57%)\n",
            "  adding: output_folder/5solutions/p01118/ (stored 0%)\n",
            "  adding: output_folder/5solutions/p01118/C/ (stored 0%)\n",
            "  adding: output_folder/5solutions/p01118/C/s848481472.cpp (deflated 47%)\n",
            "  adding: output_folder/5solutions/p01118/C/s289748724.cpp (deflated 60%)\n",
            "  adding: output_folder/5solutions/p01118/C/s896490920.cpp (deflated 39%)\n",
            "  adding: output_folder/5solutions/p01118/C/s560710676.cpp (deflated 59%)\n",
            "  adding: output_folder/5solutions/p03395/ (stored 0%)\n",
            "  adding: output_folder/5solutions/p03395/C/ (stored 0%)\n",
            "  adding: output_folder/5solutions/p03395/C/s793945473.cpp (deflated 61%)\n",
            "  adding: output_folder/5solutions/p03395/C/s365333760.cpp (deflated 62%)\n",
            "  adding: output_folder/5solutions/p03395/C/s202105003.cpp (deflated 59%)\n",
            "  adding: output_folder/5solutions/p03395/C/s703931418.cpp (deflated 59%)\n",
            "  adding: output_folder/5solutions/p03395/C/s545571189.cpp (deflated 53%)\n",
            "  adding: output_folder/5solutions/p00595/ (stored 0%)\n",
            "  adding: output_folder/5solutions/p00595/C/ (stored 0%)\n",
            "  adding: output_folder/5solutions/p00595/C/s838311697.cpp (deflated 62%)\n",
            "  adding: output_folder/5solutions/p00595/C/s615084631.cpp (deflated 40%)\n",
            "  adding: output_folder/5solutions/p00595/C/s164135046.cpp (deflated 39%)\n",
            "  adding: output_folder/5solutions/p00595/C/s947204926.cpp (deflated 27%)\n",
            "  adding: output_folder/5solutions/p00595/C/s942526180.cpp (deflated 27%)\n",
            "  adding: output_folder/5solutions/p01105/ (stored 0%)\n",
            "  adding: output_folder/5solutions/p01105/C/ (stored 0%)\n",
            "  adding: output_folder/5solutions/p01105/C/s441185833.cpp (deflated 55%)\n",
            "  adding: output_folder/5solutions/p01105/C/s992013783.cpp (deflated 60%)\n",
            "  adding: output_folder/5solutions/p01105/C/s070376109.cpp (deflated 53%)\n",
            "  adding: output_folder/5solutions/p00133/ (stored 0%)\n",
            "  adding: output_folder/5solutions/p00133/C/ (stored 0%)\n",
            "  adding: output_folder/5solutions/p00133/C/s347764683.cpp (deflated 78%)\n",
            "  adding: output_folder/5solutions/p00133/C/s437385866.cpp (deflated 63%)\n",
            "  adding: output_folder/5solutions/p00133/C/s726052892.cpp (deflated 74%)\n",
            "  adding: output_folder/5solutions/p00133/C/s011251527.cpp (deflated 73%)\n",
            "  adding: output_folder/5solutions/p00133/C/s599743519.cpp (deflated 43%)\n",
            "  adding: output_folder/5solutions/p02465/ (stored 0%)\n",
            "  adding: output_folder/5solutions/p02465/C/ (stored 0%)\n",
            "  adding: output_folder/5solutions/p02465/C/s114230986.cpp (deflated 64%)\n",
            "  adding: output_folder/5solutions/p02465/C/s128410961.cpp (deflated 48%)\n",
            "  adding: output_folder/5solutions/p02465/C/s859085452.cpp (deflated 55%)\n",
            "  adding: output_folder/5solutions/p02465/C/s108677214.cpp (deflated 52%)\n",
            "  adding: output_folder/5solutions/p02465/C/s388453391.cpp (deflated 45%)\n",
            "  adding: output_folder/5solutions/p00076/ (stored 0%)\n",
            "  adding: output_folder/5solutions/p00076/C/ (stored 0%)\n",
            "  adding: output_folder/5solutions/p00076/C/s616332125.cpp (deflated 44%)\n",
            "  adding: output_folder/5solutions/p00076/C/s315184846.cpp (deflated 41%)\n",
            "  adding: output_folder/5solutions/p00076/C/s216980218.cpp (deflated 39%)\n",
            "  adding: output_folder/5solutions/p00076/C/s065491204.cpp (deflated 39%)\n",
            "  adding: output_folder/5solutions/p00076/C/s320017447.cpp (deflated 41%)\n",
            "  adding: output_folder/5solutions/p03313/ (stored 0%)\n",
            "  adding: output_folder/5solutions/p03313/C/ (stored 0%)\n",
            "  adding: output_folder/5solutions/p03313/C/s127610179.cpp (deflated 54%)\n",
            "  adding: output_folder/5solutions/p03313/C/s003884915.cpp (deflated 51%)\n",
            "  adding: output_folder/5solutions/p03313/C/s905906344.cpp (deflated 59%)\n",
            "  adding: output_folder/5solutions/p03313/C/s569874092.cpp (deflated 65%)\n",
            "  adding: output_folder/5solutions/p03313/C/s174960444.cpp (deflated 52%)\n",
            "  adding: output_folder/5solutions/p02402/ (stored 0%)\n",
            "  adding: output_folder/5solutions/p02402/C/ (stored 0%)\n",
            "  adding: output_folder/5solutions/p02402/C/s319814814.cpp (deflated 45%)\n",
            "  adding: output_folder/5solutions/p02402/C/s550829985.cpp (deflated 52%)\n",
            "  adding: output_folder/5solutions/p02402/C/s754576162.cpp (deflated 53%)\n",
            "  adding: output_folder/5solutions/p02402/C/s631827008.cpp (deflated 55%)\n",
            "  adding: output_folder/5solutions/p02402/C/s152958922.cpp (deflated 53%)\n",
            "  adding: output_folder/5solutions/p00317/ (stored 0%)\n",
            "  adding: output_folder/5solutions/p00317/C/ (stored 0%)\n",
            "  adding: output_folder/5solutions/p00317/C/s324459900.cpp (deflated 51%)\n",
            "  adding: output_folder/5solutions/p00317/C/s993421512.cpp (deflated 66%)\n"
          ]
        },
        {
          "output_type": "display_data",
          "data": {
            "text/plain": [
              "<IPython.core.display.Javascript object>"
            ],
            "application/javascript": [
              "\n",
              "    async function download(id, filename, size) {\n",
              "      if (!google.colab.kernel.accessAllowed) {\n",
              "        return;\n",
              "      }\n",
              "      const div = document.createElement('div');\n",
              "      const label = document.createElement('label');\n",
              "      label.textContent = `Downloading \"${filename}\": `;\n",
              "      div.appendChild(label);\n",
              "      const progress = document.createElement('progress');\n",
              "      progress.max = size;\n",
              "      div.appendChild(progress);\n",
              "      document.body.appendChild(div);\n",
              "\n",
              "      const buffers = [];\n",
              "      let downloaded = 0;\n",
              "\n",
              "      const channel = await google.colab.kernel.comms.open(id);\n",
              "      // Send a message to notify the kernel that we're ready.\n",
              "      channel.send({})\n",
              "\n",
              "      for await (const message of channel.messages) {\n",
              "        // Send a message to notify the kernel that we're ready.\n",
              "        channel.send({})\n",
              "        if (message.buffers) {\n",
              "          for (const buffer of message.buffers) {\n",
              "            buffers.push(buffer);\n",
              "            downloaded += buffer.byteLength;\n",
              "            progress.value = downloaded;\n",
              "          }\n",
              "        }\n",
              "      }\n",
              "      const blob = new Blob(buffers, {type: 'application/binary'});\n",
              "      const a = document.createElement('a');\n",
              "      a.href = window.URL.createObjectURL(blob);\n",
              "      a.download = filename;\n",
              "      div.appendChild(a);\n",
              "      a.click();\n",
              "      div.remove();\n",
              "    }\n",
              "  "
            ]
          },
          "metadata": {}
        },
        {
          "output_type": "display_data",
          "data": {
            "text/plain": [
              "<IPython.core.display.Javascript object>"
            ],
            "application/javascript": [
              "download(\"download_4b51fd8f-4afb-4a7e-a97c-6e3118023042\", \"output.zip\", 230574)"
            ]
          },
          "metadata": {}
        },
        {
          "output_type": "stream",
          "name": "stdout",
          "text": [
            "Done! Download should start automatically.\n"
          ]
        }
      ]
    },
    {
      "cell_type": "code",
      "source": [
        "print(model.generation_config)\n"
      ],
      "metadata": {
        "colab": {
          "base_uri": "https://localhost:8080/"
        },
        "id": "pSSnQ1-b53Wr",
        "outputId": "23fe48a4-6adf-491d-f015-3b6af8ea5bf8"
      },
      "execution_count": 13,
      "outputs": [
        {
          "output_type": "stream",
          "name": "stdout",
          "text": [
            "GenerationConfig {\n",
            "  \"bos_token_id\": 1,\n",
            "  \"eos_token_id\": 2\n",
            "}\n",
            "\n"
          ]
        }
      ]
    }
  ]
}